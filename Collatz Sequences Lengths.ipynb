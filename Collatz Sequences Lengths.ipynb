{
 "cells": [
  {
   "cell_type": "markdown",
   "metadata": {},
   "source": [
    "## Collatz sequence lengths of first 10 million integers in Apache Spark\n",
    "\n",
    "Author: Chi Yan Tang\n",
    "\n",
    "Take an integer n. If n is even, divide it by two (n <- n/2). If n is odd, multiply this number by 3 and add 1 (n <- 3n+1). The result of this operation is the input of the next iteration. \n",
    "\n",
    "For example, if the initial value of n is 3, the Collatz sequence is [3, 10, 5, 16, 8, 4, 2, 1]. The Collatz sequence length is 8.\n",
    "\n",
    "The unproven Collatz conjecture specifies that any integer n, will return to 1.\n",
    "\n",
    "Paul Erdos has famously said, \"Mathematics may not be ready for such problems.\" For more information on the Collatz conjecture, see http://mathworld.wolfram.com/CollatzProblem.html\n",
    "\n",
    "The following code plots a frequency distribution of the Collatz sequence lengths for the first ten million integers. \n",
    "\n",
    "The code is written in Apache Spark, an open-source distributed computing framework. pySpark is the Python API for Spark."
   ]
  },
  {
   "cell_type": "code",
   "execution_count": 15,
   "metadata": {},
   "outputs": [
    {
     "name": "stdout",
     "output_type": "stream",
     "text": [
      "Execution time: 546.4677586555481 seconds - 1 partition(s)\n",
      "Execution time: 337.4857029914856 seconds - 2 partition(s)\n",
      "Execution time: 257.45519518852234 seconds - 4 partition(s)\n"
     ]
    }
   ],
   "source": [
    "#!pip install --upgrade pandas\n",
    "#!pip install --upgrade google-api-python-client\n",
    "#!pip install --upgrade seaborn\n",
    "#!pip install --upgrade pyspark\n",
    "import pyspark\n",
    "import random \n",
    "import time\n",
    "\n",
    "from pyspark import SparkContext\n",
    "#sc = SparkContext()\n",
    "\n",
    "start_time = time.time()\n",
    "\n",
    "MAXNUMBER = 10000000\n",
    "\n",
    "def collatz_length(x):\n",
    "    length = 1\n",
    "    while x > 1:\n",
    "       if x % 2 == 0:\n",
    "         x = x/2\n",
    "       else:\n",
    "         x = 3*x + 1            \n",
    "       length += 1\n",
    "    return length\n",
    "\n",
    "for partitions in [1,2,4]:   #testing code execution time over different partition sizes\n",
    "    # Collatz sequence length frequencies\n",
    "    frequenciesRDD = sc.parallelize(range(1,MAXNUMBER), partitions)\n",
    "    frequencies = frequenciesRDD.map(lambda x:(collatz_length(x),1)) \\\n",
    "                                .reduceByKey(lambda x, y: x + y).collect()\n",
    "\n",
    "    print(\"Execution time: %s seconds - %s partition(s)\" % (time.time() - start_time,partitions))\n",
    "    start_time = time.time()"
   ]
  },
  {
   "cell_type": "code",
   "execution_count": 16,
   "metadata": {},
   "outputs": [
    {
     "data": {
      "image/png": "[encoded data removed]",
      "text/plain": [
       "<matplotlib.figure.Figure at 0x7f0327ef09b0>"
      ]
     },
     "metadata": {},
     "output_type": "display_data"
    },
    {
     "data": {
      "text/plain": [
       "<matplotlib.text.Text at 0x7f0327df9470>"
      ]
     },
     "execution_count": 16,
     "metadata": {},
     "output_type": "execute_result"
    }
   ],
   "source": [
    "import matplotlib.pyplot as plt\n",
    "[x,y] = zip(*frequencies)\n",
    "plt.plot(x, y,'.')\n",
    "plt.show()\n",
    "plt.xlabel(\"Collatz Sequence Length\")\n",
    "plt.ylabel(\"Frequency\")\n"
   ]
  },
  {
   "cell_type": "code",
   "execution_count": null,
   "metadata": {
    "collapsed": true
   },
   "outputs": [],
   "source": []
  }
 ],
 "metadata": {
  "kernelspec": {
   "display_name": "Python 3",
   "language": "python",
   "name": "python3"
  },
  "language_info": {
   "codemirror_mode": {
    "name": "ipython",
    "version": 3
   },
   "file_extension": ".py",
   "mimetype": "text/x-python",
   "name": "python",
   "nbconvert_exporter": "python",
   "pygments_lexer": "ipython3",
   "version": "3.5.2"
  }
 },
 "nbformat": 4,
 "nbformat_minor": 2
}
