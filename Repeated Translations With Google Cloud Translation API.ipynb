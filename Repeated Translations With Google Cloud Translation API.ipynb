{
 "cells": [
  {
   "cell_type": "markdown",
   "metadata": {},
   "source": [
    "To create a Google Cloud Datalab notebook, see https://cloud.google.com/datalab/docs/quickstarts"
   ]
  },
  {
   "cell_type": "code",
   "execution_count": 135,
   "metadata": {
    "collapsed": false
   },
   "outputs": [],
   "source": [
    "APIKEY=\"AI.....\" #put your own APIKEY here"
   ]
  },
  {
   "cell_type": "code",
   "execution_count": 136,
   "metadata": {
    "collapsed": false
   },
   "outputs": [
    {
     "name": "stdout",
     "output_type": "stream",
     "text": [
      "Requirement already up-to-date: google-api-python-client in /usr/local/lib/python2.7/dist-packages\n",
      "Requirement already up-to-date: six<2dev,>=1.6.1 in /usr/local/lib/python2.7/dist-packages (from google-api-python-client)\n",
      "Requirement already up-to-date: httplib2<1dev,>=0.9.2 in /usr/local/lib/python2.7/dist-packages (from google-api-python-client)\n",
      "Requirement already up-to-date: oauth2client<5.0.0dev,>=1.5.0 in /usr/local/lib/python2.7/dist-packages (from google-api-python-client)\n",
      "Requirement already up-to-date: uritemplate<4dev,>=3.0.0 in /usr/local/lib/python2.7/dist-packages (from google-api-python-client)\n",
      "Requirement already up-to-date: rsa>=3.1.4 in /usr/local/lib/python2.7/dist-packages (from oauth2client<5.0.0dev,>=1.5.0->google-api-python-client)\n",
      "Requirement already up-to-date: pyasn1>=0.1.7 in /usr/local/lib/python2.7/dist-packages (from oauth2client<5.0.0dev,>=1.5.0->google-api-python-client)\n",
      "Requirement already up-to-date: pyasn1-modules>=0.0.5 in /usr/local/lib/python2.7/dist-packages (from oauth2client<5.0.0dev,>=1.5.0->google-api-python-client)\n"
     ]
    }
   ],
   "source": [
    "!pip install --upgrade google-api-python-client"
   ]
  },
  {
   "cell_type": "code",
   "execution_count": 137,
   "metadata": {
    "collapsed": true
   },
   "outputs": [],
   "source": [
    "from googleapiclient.discovery import build\n",
    "service = build('translate', 'v2', developerKey=APIKEY)"
   ]
  },
  {
   "cell_type": "code",
   "execution_count": 134,
   "metadata": {
    "collapsed": false
   },
   "outputs": [
    {
     "name": "stdout",
     "output_type": "stream",
     "text": [
      "Why does the world have to be this way? Littering just isn't done here\n",
      "为什么世界必须这样？乱抛垃圾不是在这里做的\n",
      "Why is the world so? Littering is not done here\n",
      "为什么这么世界？乱抛垃圾不在这里\n",
      "Why is this world? Littering is not here\n",
      "为什么这个世界？垃圾不在这里\n",
      "Why is this world? Garbage is not here\n",
      "\n",
      "\n",
      "Why does the world have to be this way? Littering just isn't done here\n",
      "Kenapa dunia harus seperti ini? Littering hanya tidak dilakukan di sini\n",
      "Why the world should be like this? Littering is simply not done here\n",
      "Kenapa dunia sepatutnya seperti ini? Littering semata-mata tidak dilakukan di sini\n",
      "Why is the world supposed to be like this? Littering is simply not done here\n",
      "Kenapa dunia sepatutnya seperti ini? Littering semata-mata tidak dilakukan di sini\n",
      "Why is the world supposed to be like this? Littering is simply not done here\n",
      "\n",
      "\n",
      "Why does the world have to be this way? Littering just isn't done here\n",
      "なぜ世界はこのようにする必要がありますか？リッターリングはここではできません\n",
      "Why does the world need to be like this? Rittering can not be done here\n",
      "なぜ世界はこれのようにする必要がありますか？リッターリングはここではできません\n",
      "Why does the world need to be like this? Rittering can not be done here\n",
      "なぜ世界はこれのようにする必要がありますか？リッターリングはここではできません\n",
      "Why does the world need to be like this? Rittering can not be done here\n",
      "\n",
      "\n",
      "Why does the world have to be this way? Littering just isn't done here\n",
      "왜 세상은 이런 방식이어야합니까? 쓰레기 투기는 여기서 끝나지 않습니다.\n",
      "Why should the world be this way? Garbage dumping does not end here.\n",
      "왜 세상이 이렇게해야합니까? 쓰레기 투기는 여기서 끝나지 않습니다.\n",
      "Why should the world do this? Garbage dumping does not end here.\n",
      "왜 세계는 이것을해야합니까? 쓰레기 투기는 여기서 끝나지 않습니다.\n",
      "Why should the world do this? Garbage dumping does not end here.\n",
      "\n",
      "\n",
      "Why does the world have to be this way? Littering just isn't done here\n",
      "Warum muss die Welt so sein? Littering ist einfach nicht hier\n",
      "Why does the world have to be like this? Littering is just not here\n",
      "Warum muss die Welt so sein? Littering ist einfach nicht hier\n",
      "Why does the world have to be like this? Littering is just not here\n",
      "Warum muss die Welt so sein? Littering ist einfach nicht hier\n",
      "Why does the world have to be like this? Littering is just not here\n",
      "\n",
      "\n"
     ]
    }
   ],
   "source": [
    "input = \"Why does the world have to be this way? Littering just isn't done here\" \n",
    "cycles = 3\n",
    "\n",
    "def repeatedTranslations(input, cycles, targetLang):\n",
    "  print input + \"\"\n",
    "  outputEn = input\n",
    "  for n in xrange(0,cycles):\n",
    "    outputTarget = service.translations().list(source='en',target=targetLang,q=outputEn) \\\n",
    "              .execute()['translations'][0]['translatedText'] \n",
    "    outputEn = service.translations().list(source=targetLang,target='en',q=outputTarget) \\\n",
    "            .execute()['translations'][0]['translatedText'] \n",
    "    \n",
    "    print outputTarget + \"\\n\" + outputEn\n",
    "  print \"\\n\" \n",
    "\n",
    "repeatedTranslations(input, cycles, 'zh') #Chinese\n",
    "repeatedTranslations(input, cycles, 'ms') #Malay\n",
    "repeatedTranslations(input, cycles, 'ja') #Japanese\n",
    "repeatedTranslations(input, cycles, 'ko') #Korean\n",
    "repeatedTranslations(input, cycles, 'de') #German                  \n"
   ]
  },
  {
   "cell_type": "code",
   "execution_count": null,
   "metadata": {
    "collapsed": true
   },
   "outputs": [],
   "source": []
  }
 ],
 "metadata": {
  "kernelspec": {
   "display_name": "Python 2",
   "language": "python",
   "name": "python2"
  },
  "language_info": {
   "codemirror_mode": {
    "name": "ipython",
    "version": 2
   },
   "file_extension": ".py",
   "mimetype": "text/x-python",
   "name": "python",
   "nbconvert_exporter": "python",
   "pygments_lexer": "ipython2",
   "version": "2.7.9"
  }
 },
 "nbformat": 4,
 "nbformat_minor": 2
}
