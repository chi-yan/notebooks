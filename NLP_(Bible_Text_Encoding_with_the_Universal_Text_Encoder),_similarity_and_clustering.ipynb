{
  "nbformat": 4,
  "nbformat_minor": 0,
  "metadata": {
    "colab": {
      "name": "NLP (Bible Text Encoding with the Universal Text Encoder), similarity and clustering",
      "provenance": [],
      "collapsed_sections": [],
      "machine_shape": "hm",
      "authorship_tag": "ABX9TyPkX+x+S7wrGIwhbdKCBh8m",
      "include_colab_link": true
    },
    "kernelspec": {
      "name": "python3",
      "display_name": "Python 3"
    },
    "accelerator": "GPU"
  },
  "cells": [
    {
      "cell_type": "markdown",
      "metadata": {
        "id": "view-in-github",
        "colab_type": "text"
      },
      "source": [
        "<a href=\"https://colab.research.google.com/github/chi-yan/notebooks/blob/master/NLP_(Bible_Text_Encoding_with_the_Universal_Text_Encoder)%2C_similarity_and_clustering.ipynb\" target=\"_parent\"><img src=\"https://colab.research.google.com/assets/colab-badge.svg\" alt=\"Open In Colab\"/></a>"
      ]
    },
    {
      "cell_type": "markdown",
      "metadata": {
        "id": "Wj43ap3N9mga"
      },
      "source": [
        "This Google Colab notebook uses Natural Language Processing (NLP) techniques \n",
        "to detect Bible verses that are most similar to a random block of text. Word numerical (high-ordered vectors) obtained via the \"Universal Text Encoder\" is used to numerically model these verses.`\n",
        "\n",
        "Cosine similarity is to quantify similarity (in meaning) between sentences. A similiarity close to 0 indicates that two sentences are similar in meaning.\n",
        "\n",
        "References:\n",
        "\n",
        "http://www.ijstr.org/final-print/dec2019/Lexical-And-Semantic-Analysis-Of-Sacred-Texts-Using-Machine-Learning-And-Natural-Language-Processing.pdf (see Section 3.4)\n",
        "\n",
        "https://tfhub.dev/google/universal-sentence-encoder/1"
      ]
    },
    {
      "cell_type": "code",
      "metadata": {
        "id": "EHxvwfAJAyI0",
        "colab": {
          "base_uri": "https://localhost:8080/"
        },
        "outputId": "bb8f5663-3fef-4c2d-ceb2-d73f28d09888"
      },
      "source": [
        "import numpy as np # linear algebra\n",
        "import pandas as pd #\n",
        "import tensorflow_hub as hub\n",
        "import csv\n",
        "import pprint\n",
        "from tabulate import tabulate\n",
        "from collections import OrderedDict\n",
        "from operator import itemgetter\n",
        "text = 'cats and dogs' #@param {type:\"string\", run:\"auto\"}\n",
        " \n",
        "def cosine_similarity(A, B):\n",
        "    '''\n",
        "    Input:\n",
        "        A: a numpy array which corresponds to a word vector\n",
        "        B: A numpy array which corresponds to a word vector\n",
        "    Output:\n",
        "        cos: numerical number representing the cosine similarity between A and B.\n",
        "    '''\n",
        "    # you have to set this variable to the true label.\n",
        "    cos = -10\n",
        "    dot = np.dot(A, B)\n",
        "    norma = np.linalg.norm(A)\n",
        "    normb = np.linalg.norm(B)\n",
        "    cos = dot / (norma * normb)\n",
        " \n",
        "    return cos\n",
        " \n",
        "if 'init' not in locals():\n",
        "  init = True\n",
        "  !curl https://raw.githubusercontent.com/EswarGitHub/BibleSearch/master/bible_data_set.csv -o bible_data_set.csv\n",
        "  reader = csv.reader(open('bible_data_set.csv', 'r'))\n",
        "  d = {}\n",
        "  for row in reader:\n",
        "    k,_,_,_,v = row\n",
        "    d[k] = v[:-2] #    \n",
        "  embed = hub.load(\"https://tfhub.dev/google/universal-sentence-encoder/4\")\n",
        "  embeddings = embed(list(d.values()))\n",
        "  versedict = {}\n",
        "  for i, verse in enumerate(d):\n",
        "    versedict[i] = verse\n",
        " "
      ],
      "execution_count": 1,
      "outputs": [
        {
          "output_type": "stream",
          "name": "stdout",
          "text": [
            "  % Total    % Received % Xferd  Average Speed   Time    Time     Time  Current\n",
            "                                 Dload  Upload   Total   Spent    Left  Speed\n",
            "100 5010k  100 5010k    0     0  11.3M      0 --:--:-- --:--:-- --:--:-- 11.3M\n"
          ]
        }
      ]
    },
    {
      "cell_type": "code",
      "metadata": {
        "id": "Ao-H1tuYBxMV"
      },
      "source": [
        "\n",
        "def cosine_similarities(A, B): #A is the big matrix containing all embeddings, B is the sentence\n",
        "    return np.divide(np.dot(A,B),np.apply_along_axis(np.linalg.norm, 1, A)*np.linalg.norm(B))[:,0]\n",
        "\n",
        "def generateSimilarities(text, numberOfItems):\n",
        "  embedded_text = embed([text])\n",
        "  similarities = cosine_similarities(embeddings.numpy(), embedded_text.numpy().T)\n",
        "  data = []\n",
        "  for i in range(len(embeddings)):\n",
        "    data.append([versedict[i],d[versedict[i]],similarities[i]])\n",
        "  return(pd.DataFrame (data, columns = ['Verse', 'Text', 'Similarity']).sort_values(by=['Similarity'], ascending=False).head(numberOfItems))\n",
        "#embed = hub.load(\"https://tfhub.dev/google/universal-sentence-encoder/4\")"
      ],
      "execution_count": 2,
      "outputs": []
    },
    {
      "cell_type": "code",
      "metadata": {
        "id": "jdGaEkfWCDW8"
      },
      "source": [
        "embedded_text=embed([\"Hello\"])"
      ],
      "execution_count": 3,
      "outputs": []
    },
    {
      "cell_type": "code",
      "metadata": {
        "id": "ikXpYSLQDLsz"
      },
      "source": [
        "similarities = cosine_similarities(embeddings.numpy(), embedded_text.numpy().T)"
      ],
      "execution_count": 4,
      "outputs": []
    },
    {
      "cell_type": "code",
      "metadata": {
        "id": "5NkRyp4VDPRZ"
      },
      "source": [
        "A = embeddings.numpy()\n",
        "B = embedded_text.numpy().T"
      ],
      "execution_count": 5,
      "outputs": []
    },
    {
      "cell_type": "code",
      "metadata": {
        "colab": {
          "base_uri": "https://localhost:8080/"
        },
        "id": "g7G3ukIoDgGx",
        "outputId": "e9895d94-61ad-48c7-cadb-79a8c3a7ec67"
      },
      "source": [
        "np.dot(A,B).flatten()"
      ],
      "execution_count": 6,
      "outputs": [
        {
          "output_type": "execute_result",
          "data": {
            "text/plain": [
              "array([0.476579  , 0.01377824, 0.01151486, ..., 0.0474508 , 0.08687165,\n",
              "       0.10028698], dtype=float32)"
            ]
          },
          "metadata": {},
          "execution_count": 6
        }
      ]
    },
    {
      "cell_type": "code",
      "metadata": {
        "colab": {
          "base_uri": "https://localhost:8080/"
        },
        "id": "GefdDg5wD0YK",
        "outputId": "ffeeb007-e9a3-454a-80bf-98a3b045bb3b"
      },
      "source": [
        "np.divide(np.dot(A,B),np.apply_along_axis(np.linalg.norm, 1, A)*np.linalg.norm(B))[:,0]"
      ],
      "execution_count": 7,
      "outputs": [
        {
          "output_type": "execute_result",
          "data": {
            "text/plain": [
              "array([0.47657904, 0.01377824, 0.01151487, ..., 0.04745081, 0.08687166,\n",
              "       0.10028698], dtype=float32)"
            ]
          },
          "metadata": {},
          "execution_count": 7
        }
      ]
    },
    {
      "cell_type": "code",
      "metadata": {
        "id": "efmmnrGwGhk4"
      },
      "source": [
        "\n",
        "import pickle\n",
        "with open('embeddings.pickle', 'wb') as f:\n",
        "    pickle.dump(embeddings, f)"
      ],
      "execution_count": 8,
      "outputs": []
    },
    {
      "cell_type": "code",
      "metadata": {
        "id": "R2oOcB2xbqBM"
      },
      "source": [
        "import pickle\n",
        "with open('data.pickle', 'wb') as f:\n",
        "    pickle.dump(d, f)"
      ],
      "execution_count": 9,
      "outputs": []
    },
    {
      "cell_type": "code",
      "metadata": {
        "id": "Or-QFrjQISYs",
        "colab": {
          "base_uri": "https://localhost:8080/"
        },
        "outputId": "9897733f-d521-4259-8c78-b2ae0df4acd0"
      },
      "source": [
        "embeddings"
      ],
      "execution_count": 10,
      "outputs": [
        {
          "output_type": "execute_result",
          "data": {
            "text/plain": [
              "<tf.Tensor: shape=(31103, 512), dtype=float32, numpy=\n",
              "array([[ 0.00468304, -0.08392566, -0.01649407, ..., -0.03823555,\n",
              "         0.00346091, -0.10069176],\n",
              "       [-0.05283082, -0.00314455,  0.0539399 , ..., -0.05066366,\n",
              "         0.05926255,  0.007909  ],\n",
              "       [-0.04331731,  0.01895817, -0.04516518, ..., -0.00918447,\n",
              "         0.02742364,  0.04344477],\n",
              "       ...,\n",
              "       [-0.03668367, -0.02885344,  0.04155295, ..., -0.0178898 ,\n",
              "         0.09710161,  0.07535172],\n",
              "       [-0.01769449, -0.03582924, -0.00357681, ...,  0.01731504,\n",
              "        -0.03287543,  0.01774419],\n",
              "       [-0.01537722, -0.04798326, -0.03328146, ...,  0.02343452,\n",
              "         0.01298577,  0.00462453]], dtype=float32)>"
            ]
          },
          "metadata": {},
          "execution_count": 10
        }
      ]
    },
    {
      "cell_type": "code",
      "metadata": {
        "id": "5l7gJcnKyHiT"
      },
      "source": [
        "import pickle\n",
        "with open('versedict.pickle', 'wb') as f:\n",
        "    pickle.dump(versedict, f)"
      ],
      "execution_count": 11,
      "outputs": []
    },
    {
      "cell_type": "code",
      "metadata": {
        "id": "L6p4Dv4a3tUT",
        "colab": {
          "base_uri": "https://localhost:8080/",
          "height": 35
        },
        "outputId": "83abaa5c-bd4f-44c2-9646-34ea919c1f48"
      },
      "source": [
        "d['Genesis 32:15']"
      ],
      "execution_count": 12,
      "outputs": [
        {
          "output_type": "execute_result",
          "data": {
            "application/vnd.google.colaboratory.intrinsic+json": {
              "type": "string"
            },
            "text/plain": [
              "'Thirty milch camels with their colts, forty kine, and ten bulls, twenty she asses, and ten foals.'"
            ]
          },
          "metadata": {},
          "execution_count": 12
        }
      ]
    },
    {
      "cell_type": "code",
      "metadata": {
        "id": "eHnb7l7ayFS7"
      },
      "source": [
        "\n",
        "def cosine_similarities(A, B): #A is the big matrix containing all embeddings, B is the sentence\n",
        "    return np.divide(np.dot(A,B),np.apply_along_axis(np.linalg.norm, 1, A)*np.linalg.norm(B))[:,0]"
      ],
      "execution_count": 13,
      "outputs": []
    },
    {
      "cell_type": "code",
      "metadata": {
        "id": "ykg9xsvgs_2C",
        "colab": {
          "base_uri": "https://localhost:8080/",
          "height": 206
        },
        "outputId": "17bc3761-a32d-4ba7-8f13-24fcfe9874be"
      },
      "source": [
        "\n",
        "\n",
        "def generateSimilarities(text, numberOfItems):\n",
        "  embedded_text = embed([text])\n",
        "  similarities = cosine_similarities(embeddings.numpy(), embedded_text.numpy().T)\n",
        "  data = []\n",
        "  for i in range(len(embeddings)):\n",
        "    data.append([versedict[i],d[versedict[i]],similarities[i]])\n",
        "  return(pd.DataFrame (data, columns = ['Verse', 'Text', 'Similarity']).sort_values(by=['Similarity'], ascending=False).head(numberOfItems))\n",
        "\n",
        "pd.set_option('max_colwidth', 500)\n",
        "\n",
        "generateSimilarities(\"only son\",5)\n"
      ],
      "execution_count": 14,
      "outputs": [
        {
          "output_type": "execute_result",
          "data": {
            "text/html": [
              "<div>\n",
              "<style scoped>\n",
              "    .dataframe tbody tr th:only-of-type {\n",
              "        vertical-align: middle;\n",
              "    }\n",
              "\n",
              "    .dataframe tbody tr th {\n",
              "        vertical-align: top;\n",
              "    }\n",
              "\n",
              "    .dataframe thead th {\n",
              "        text-align: right;\n",
              "    }\n",
              "</style>\n",
              "<table border=\"1\" class=\"dataframe\">\n",
              "  <thead>\n",
              "    <tr style=\"text-align: right;\">\n",
              "      <th></th>\n",
              "      <th>Verse</th>\n",
              "      <th>Text</th>\n",
              "      <th>Similarity</th>\n",
              "    </tr>\n",
              "  </thead>\n",
              "  <tbody>\n",
              "    <tr>\n",
              "      <th>10563</th>\n",
              "      <td>1 Chronicles 7:27</td>\n",
              "      <td>Non his son, Jehoshuah his son.</td>\n",
              "      <td>0.454879</td>\n",
              "    </tr>\n",
              "    <tr>\n",
              "      <th>26063</th>\n",
              "      <td>John 1:18</td>\n",
              "      <td>No man hath seen God at any time, the only begotten Son, which is in the bosom of the Father, he hath declared him.</td>\n",
              "      <td>0.422034</td>\n",
              "    </tr>\n",
              "    <tr>\n",
              "      <th>564</th>\n",
              "      <td>Genesis 22:16</td>\n",
              "      <td>And said, By myself have I sworn, saith the LORD, for because thou hast done this thing, and hast not withheld thy son, thine only son:</td>\n",
              "      <td>0.414489</td>\n",
              "    </tr>\n",
              "    <tr>\n",
              "      <th>25340</th>\n",
              "      <td>Luke 9:38</td>\n",
              "      <td>And, behold, a man of the company cried out, saying, Master, I beseech thee, look upon my son: for he is mine only child.</td>\n",
              "      <td>0.399740</td>\n",
              "    </tr>\n",
              "    <tr>\n",
              "      <th>27396</th>\n",
              "      <td>Acts 13:33</td>\n",
              "      <td>God hath fulfilled the same unto us their children, in that he hath raised up Jesus again; as it is also written in the second psalm, Thou art my Son, this day have I begotten thee.</td>\n",
              "      <td>0.386814</td>\n",
              "    </tr>\n",
              "  </tbody>\n",
              "</table>\n",
              "</div>"
            ],
            "text/plain": [
              "                   Verse  ... Similarity\n",
              "10563  1 Chronicles 7:27  ...   0.454879\n",
              "26063          John 1:18  ...   0.422034\n",
              "564        Genesis 22:16  ...   0.414489\n",
              "25340          Luke 9:38  ...   0.399740\n",
              "27396         Acts 13:33  ...   0.386814\n",
              "\n",
              "[5 rows x 3 columns]"
            ]
          },
          "metadata": {},
          "execution_count": 14
        }
      ]
    },
    {
      "cell_type": "code",
      "metadata": {
        "id": "-lOGsTZh0dUZ",
        "colab": {
          "base_uri": "https://localhost:8080/",
          "height": 206
        },
        "outputId": "938e6e72-47e5-447c-dece-b8d16e9ffc1c"
      },
      "source": [
        "generateSimilarities(d['Genesis 1:1'],5)"
      ],
      "execution_count": 15,
      "outputs": [
        {
          "output_type": "execute_result",
          "data": {
            "text/html": [
              "<div>\n",
              "<style scoped>\n",
              "    .dataframe tbody tr th:only-of-type {\n",
              "        vertical-align: middle;\n",
              "    }\n",
              "\n",
              "    .dataframe tbody tr th {\n",
              "        vertical-align: top;\n",
              "    }\n",
              "\n",
              "    .dataframe thead th {\n",
              "        text-align: right;\n",
              "    }\n",
              "</style>\n",
              "<table border=\"1\" class=\"dataframe\">\n",
              "  <thead>\n",
              "    <tr style=\"text-align: right;\">\n",
              "      <th></th>\n",
              "      <th>Verse</th>\n",
              "      <th>Text</th>\n",
              "      <th>Similarity</th>\n",
              "    </tr>\n",
              "  </thead>\n",
              "  <tbody>\n",
              "    <tr>\n",
              "      <th>1</th>\n",
              "      <td>Genesis 1:1</td>\n",
              "      <td>In the beginning God created the heaven and the earth.</td>\n",
              "      <td>1.000000</td>\n",
              "    </tr>\n",
              "    <tr>\n",
              "      <th>35</th>\n",
              "      <td>Genesis 2:4</td>\n",
              "      <td>These are the generations of the heavens and of the earth when they were created, in the day that the LORD God made the earth and the heavens,</td>\n",
              "      <td>0.738225</td>\n",
              "    </tr>\n",
              "    <tr>\n",
              "      <th>15846</th>\n",
              "      <td>Psalms 115:15</td>\n",
              "      <td>Ye are blessed of the LORD which made heaven and earth.</td>\n",
              "      <td>0.626305</td>\n",
              "    </tr>\n",
              "    <tr>\n",
              "      <th>16626</th>\n",
              "      <td>Proverbs 8:23</td>\n",
              "      <td>I was set up from everlasting, from the beginning, or ever the earth was.</td>\n",
              "      <td>0.624476</td>\n",
              "    </tr>\n",
              "    <tr>\n",
              "      <th>15820</th>\n",
              "      <td>Psalms 113:6</td>\n",
              "      <td>Who humbleth himself to behold the things that are in heaven, and in the earth!</td>\n",
              "      <td>0.604734</td>\n",
              "    </tr>\n",
              "  </tbody>\n",
              "</table>\n",
              "</div>"
            ],
            "text/plain": [
              "               Verse  ... Similarity\n",
              "1        Genesis 1:1  ...   1.000000\n",
              "35       Genesis 2:4  ...   0.738225\n",
              "15846  Psalms 115:15  ...   0.626305\n",
              "16626  Proverbs 8:23  ...   0.624476\n",
              "15820   Psalms 113:6  ...   0.604734\n",
              "\n",
              "[5 rows x 3 columns]"
            ]
          },
          "metadata": {},
          "execution_count": 15
        }
      ]
    },
    {
      "cell_type": "code",
      "metadata": {
        "id": "x8myiMWJ4Pzw"
      },
      "source": [
        "import tensorflow as tf\n"
      ],
      "execution_count": 16,
      "outputs": []
    },
    {
      "cell_type": "code",
      "metadata": {
        "id": "h9QIm-vQvlWo"
      },
      "source": [
        "from sklearn.cluster import KMeans\n",
        "\n",
        "clusters = 10\n",
        "\n",
        "embeddings_np = embeddings.numpy()\n",
        "text = pd.DataFrame(list(d.values()))\n",
        "kmeans = KMeans(n_clusters=clusters, random_state=0).fit(embeddings_np)"
      ],
      "execution_count": 17,
      "outputs": []
    },
    {
      "cell_type": "code",
      "source": [
        "\n",
        "\n",
        "def print_cluster(cluster_number):  \n",
        "  locations = np.where(kmeans.labels_ == cluster_number)[0].tolist()\n",
        "  text = pd.DataFrame(list(d.values()))\n",
        "  print(text.iloc[locations])"
      ],
      "metadata": {
        "id": "-eyuNkxgo_vA"
      },
      "execution_count": 18,
      "outputs": []
    },
    {
      "cell_type": "code",
      "source": [
        "for i in range(clusters):\n",
        "  \n",
        "  print_cluster(i)\n",
        "  print('-'*200)\n"
      ],
      "metadata": {
        "colab": {
          "base_uri": "https://localhost:8080/"
        },
        "id": "spTM6y0ZsgXh",
        "outputId": "9911576f-30c1-46f8-f483-6df15a4971ad"
      },
      "execution_count": 19,
      "outputs": [
        {
          "output_type": "stream",
          "name": "stdout",
          "text": [
            "                                                                                                                                                                                       0\n",
            "20                        And God said, Let the waters bring forth abundantly the moving creature that hath life, and fowl that may fly above the earth in the open firmament of heaven.\n",
            "42                                                                           The name of the first is Pison: that is it which compasseth the whole land of Havilah, where there is gold;\n",
            "80                  So he drove out the man; and he placed at the east of the garden of Eden Cherubims, and a flaming sword which turned every way, to keep the way of the tree of life.\n",
            "104                                                                                                              If Cain shall be avenged sevenfold, truly Lamech seventy and sevenfold.\n",
            "149                                                                                                       The earth also was corrupt before God, and the earth was filled with violence.\n",
            "...                                                                                                                                                                                  ...\n",
            "31081  And there shall in no wise enter into it any thing that defileth, neither whatsoever worketh abomination, or maketh a lie: but they which are written in the Lamb's book of life.\n",
            "31084                                                          And there shall be no more curse: but the throne of God and of the Lamb shall be in it; and his servants shall serve him:\n",
            "31086                  And there shall be no night there; and they need no candle, neither light of the sun; for the Lord God giveth them light: and they shall reign for ever and ever.\n",
            "31094                                                                                                           I am Alpha and Omega, the beginning and the end, the first and the last.\n",
            "31098           And the Spirit and the bride say, Come. And let him that heareth say, Come. And let him that is athirst come. And whosoever will, let him take the water of life freely.\n",
            "\n",
            "[4312 rows x 1 columns]\n",
            "--------------------------------------------------------------------------------------------------------------------------------------------------------------------------------------------------------\n",
            "                                                                                                                                                                                                                                           0\n",
            "2                                                                                             And the earth was without form, and void; and darkness was upon the face of the deep. And the Spirit of God moved upon the face of the waters.\n",
            "5                                                                                                                        And God called the light Day, and the darkness he called Night. And the evening and the morning were the first day.\n",
            "7                                                                                           And God made the firmament, and divided the waters which were under the firmament from the waters which were above the firmament: and it was so.\n",
            "8                                                                                                                                                  And God called the firmament Heaven. And the evening and the morning were the second day.\n",
            "10                                                                                                                 And God called the dry land Earth; and the gathering together of the waters called he Seas: and God saw that it was good.\n",
            "...                                                                                                                                                                                                                                      ...\n",
            "31074                                                 The fifth, sardonyx; the sixth, sardius; the seventh, chrysolyte; the eighth, beryl; the ninth, a topaz; the tenth, a chrysoprasus; the eleventh, a jacinth; the twelfth, an amethyst.\n",
            "31075                                                                                  And the twelve gates were twelve pearls: every several gate was of one pearl: and the street of the city was pure gold, as it were transparent glass.\n",
            "31080                                                                                                                                                                      And they shall bring the glory and honour of the nations into it.\n",
            "31083  In the midst of the street of it, and on either side of the river, was there the tree of life, which bare twelve manner of fruits, and yielded her fruit every month: and the leaves of the tree were for the healing of the nations.\n",
            "31096                                                                                                            For without are dogs, and sorcerers, and whoremongers, and murderers, and idolaters, and whosoever loveth and maketh a lie.\n",
            "\n",
            "[2682 rows x 1 columns]\n",
            "--------------------------------------------------------------------------------------------------------------------------------------------------------------------------------------------------------\n",
            "                                                                                                                                                                                     0\n",
            "69                                                 And the LORD God said unto the woman, What is this that thou hast done? And the woman said, The serpent beguiled me, and I did eat.\n",
            "86                                                                                                 And the LORD said unto Cain, Why art thou wroth? and why is thy countenance fallen?\n",
            "89                                                                          And the LORD said unto Cain, Where is Abel thy brother? And he said, I know not: Am I my brother's keeper?\n",
            "90                                                                                  And he said, What hast thou done? the voice of thy brother's blood crieth unto me from the ground.\n",
            "93                                                                                                              And Cain said unto the LORD, My punishment is greater than I can bear.\n",
            "...                                                                                                                                                                                ...\n",
            "31076                                                                                        And I saw no temple therein: for the Lord God Almighty and the Lamb are the temple of it.\n",
            "31087  And he said unto me, These sayings are faithful and true: and the Lord God of the holy prophets sent his angel to shew unto his servants the things which must shortly be done.\n",
            "31088                                                                                     Behold, I come quickly: blessed is he that keepeth the sayings of the prophecy of this book.\n",
            "31090           Then saith he unto me, See thou do it not: for I am thy fellowservant, and of thy brethren the prophets, and of them which keep the sayings of this book: worship God.\n",
            "31101                                                                                  He which testifieth these things saith, Surely I come quickly. Amen. Even so, come, Lord Jesus.\n",
            "\n",
            "[3292 rows x 1 columns]\n",
            "--------------------------------------------------------------------------------------------------------------------------------------------------------------------------------------------------------\n",
            "                                                                                                                                                                                         0\n",
            "55                                                                     Therefore shall a man leave his father and his mother, and shall cleave unto his wife: and they shall be one flesh.\n",
            "76                                                                                                          And Adam called his wife's name Eve; because she was the mother of all living.\n",
            "88                                      And Cain talked with Abel his brother: and it came to pass, when they were in the field, that Cain rose up against Abel his brother, and slew him.\n",
            "97                                    And Cain knew his wife; and she conceived, and bare Enoch: and he builded a city, and called the name of the city, after the name of his son, Enoch.\n",
            "99                                                                                     And Lamech took unto him two wives: the name of the one was Adah, and the name of the other Zillah.\n",
            "...                                                                                                                                                                                    ...\n",
            "30816                               Of the tribe of Juda were sealed twelve thousand. Of the tribe of Reuben were sealed twelve thousand. Of the tribe of Gad were sealed twelve thousand.\n",
            "30817                      Of the tribe of Aser were sealed twelve thousand. Of the tribe of Nephthalim were sealed twelve thousand. Of the tribe of Manasses were sealed twelve thousand.\n",
            "30818                          Of the tribe of Simeon were sealed twelve thousand. Of the tribe of Levi were sealed twelve thousand. Of the tribe of Issachar were sealed twelve thousand.\n",
            "30819                       Of the tribe of Zabulon were sealed twelve thousand. Of the tribe of Joseph were sealed twelve thousand. Of the tribe of Benjamin were sealed twelve thousand.\n",
            "31066  And had a wall great and high, and had twelve gates, and at the gates twelve angels, and names written thereon, which are the names of the twelve tribes of the children of Israel:\n",
            "\n",
            "[1697 rows x 1 columns]\n",
            "--------------------------------------------------------------------------------------------------------------------------------------------------------------------------------------------------------\n",
            "                                                                                                                                                                                                                                           0\n",
            "254                                                                    And the border of the Canaanites was from Sidon, as thou comest to Gerar, unto Gaza; as thou goest, unto Sodom, and Gomorrah, and Admah, and Zeboim, even unto Lasha.\n",
            "303                                                                                       So Abram departed, as the LORD had spoken unto him; and Lot went with him: and Abram was seventy and five years old when he departed out of Haran.\n",
            "309                                                                                                            And there was a famine in the land: and Abram went down into Egypt to sojourn there; for the famine was grievous in the land.\n",
            "313                                                                                                                        And it came to pass, that, when Abram was come into Egypt, the Egyptians beheld the woman that she was very fair.\n",
            "329    And Lot lifted up his eyes, and beheld all the plain of Jordan, that it was well watered every where, before the LORD destroyed Sodom and Gomorrah, even as the garden of the LORD, like the land of Egypt, as thou comest unto Zoar.\n",
            "...                                                                                                                                                                                                                                      ...\n",
            "30785                                                        And one of the elders saith unto me, Weep not: behold, the Lion of the tribe of Juda, the Root of David, hath prevailed to open the book, and to loose the seven seals thereof.\n",
            "30852                                                                   And they had a king over them, which is the angel of the bottomless pit, whose name in the Hebrew tongue is Abaddon, but in the Greek tongue hath his name Apollyon.\n",
            "30881                                                                                       And their dead bodies shall lie in the street of the great city, which spiritually is called Sodom and Egypt, where also our Lord was crucified.\n",
            "31056                                                                                                          And I John saw the holy city, new Jerusalem, coming down from God out of heaven, prepared as a bride adorned for her husband.\n",
            "31064                                                                               And he carried me away in the spirit to a great and high mountain, and shewed me that great city, the holy Jerusalem, descending out of heaven from God,\n",
            "\n",
            "[2664 rows x 1 columns]\n",
            "--------------------------------------------------------------------------------------------------------------------------------------------------------------------------------------------------------\n",
            "                                                                                                                                                                                                                                                                      0\n",
            "0                                                                                                                                                                                                                                                                    te\n",
            "29                                                             And God said, Behold, I have given you every herb bearing seed, which is upon the face of all the earth, and every tree, in the which is the fruit of a tree yielding seed; to you it shall be for meat.\n",
            "48                                                                                                                          But of the tree of the knowledge of good and evil, thou shalt not eat of it: for in the day that thou eatest thereof thou shalt surely die.\n",
            "59                                                                                                                     But of the fruit of the tree which is in the midst of the garden, God hath said, Ye shall not eat of it, neither shall ye touch it, lest ye die.\n",
            "61                                                                                                                                    For God doth know that in the day ye eat thereof, then your eyes shall be opened, and ye shall be as gods, knowing good and evil.\n",
            "...                                                                                                                                                                                                                                                                 ...\n",
            "30994                                                                                                                                                                   And the woman which thou sawest is that great city, which reigneth over the kings of the earth.\n",
            "31008                                                                                    And the fruits that thy soul lusted after are departed from thee, and all things which were dainty and goodly are departed from thee, and thou shalt find them no more at all.\n",
            "31014                                                                                                                                                                Rejoice over her, thou heaven, and ye holy apostles and prophets; for God hath avenged you on her.\n",
            "31016  And the voice of harpers, and musicians, and of pipers, and trumpeters, shall be heard no more at all in thee; and no craftsman, of whatsoever craft he be, shall be found any more in thee; and the sound of a millstone shall be heard no more at all in thee;\n",
            "31017          And the light of a candle shall shine no more at all in thee; and the voice of the bridegroom and of the bride shall be heard no more at all in thee: for thy merchants were the great men of the earth; for by thy sorceries were all nations deceived.\n",
            "\n",
            "[3638 rows x 1 columns]\n",
            "--------------------------------------------------------------------------------------------------------------------------------------------------------------------------------------------------------\n",
            "                                                                                                                                                                                                                                            0\n",
            "54                                                                                                           And Adam said, This is now bone of my bones, and flesh of my flesh: she shall be called Woman, because she was taken out of Man.\n",
            "66                                                                                                                                     And he said, I heard thy voice in the garden, and I was afraid, because I was naked; and I hid myself.\n",
            "68                                                                                                                                        And the man said, The woman whom thou gavest to be with me, she gave me of the tree, and I did eat.\n",
            "94     Behold, thou hast driven me out this day from the face of the earth; and from thy face shall I be hid; and I shall be a fugitive and a vagabond in the earth; and it shall come to pass, that every one that findeth me shall slay me.\n",
            "164                                                    For yet seven days, and I will cause it to rain upon the earth forty days and forty nights; and every living substance that I have made will I destroy from off the face of the earth.\n",
            "...                                                                                                                                                                                                                                       ...\n",
            "30982                                                                             And I saw the woman drunken with the blood of the saints, and with the blood of the martyrs of Jesus: and when I saw her, I wondered with great admiration.\n",
            "31061                                                                                                                                             He that overcometh shall inherit all things; and I will be his God, and he shall be my son.\n",
            "31089                                                                           And I John saw these things, and heard them. And when I had heard and seen, I fell down to worship before the feet of the angel which shewed me these things.\n",
            "31093                                                                                                                                And, behold, I come quickly; and my reward is with me, to give every man according as his work shall be.\n",
            "31097                                                                               I Jesus have sent mine angel to testify unto you these things in the churches. I am the root and the offspring of David, and the bright and morning star.\n",
            "\n",
            "[2895 rows x 1 columns]\n",
            "--------------------------------------------------------------------------------------------------------------------------------------------------------------------------------------------------------\n",
            "                                                                                                                                                                                                                                             0\n",
            "11                                                            And God said, Let the earth bring forth grass, the herb yielding seed, and the fruit tree yielding fruit after his kind, whose seed is in itself, upon the earth: and it was so.\n",
            "12                                                              And the earth brought forth grass, and herb yielding seed after his kind, and the tree yielding fruit, whose seed was in itself, after his kind: and God saw that it was good.\n",
            "16                                                                                                           And God made two great lights; the greater light to rule the day, and the lesser light to rule the night: he made the stars also.\n",
            "18                                                                                                                       And to rule over the day and over the night, and to divide the light from the darkness: and God saw that it was good.\n",
            "21                                       And God created great whales, and every living creature that moveth, which the waters brought forth abundantly, after their kind, and every winged fowl after his kind: and God saw that it was good.\n",
            "...                                                                                                                                                                                                                                        ...\n",
            "31052                                                                     And the sea gave up the dead which were in it; and death and hell delivered up the dead which were in them: and they were judged every man according to their works.\n",
            "31062  But the fearful, and unbelieving, and the abominable, and murderers, and whoremongers, and sorcerers, and idolaters, and all liars, shall have their part in the lake which burneth with fire and brimstone: which is the second death.\n",
            "31078                                                                                               And the nations of them which are saved shall walk in the light of it: and the kings of the earth do bring their glory and honour into it.\n",
            "31082                                                                                                                   And he shewed me a pure river of water of life, clear as crystal, proceeding out of the throne of God and of the Lamb.\n",
            "31100                          And if any man shall take away from the words of the book of this prophecy, God shall take away his part out of the book of life, and out of the holy city, and from the things which are written in this book.\n",
            "\n",
            "[3901 rows x 1 columns]\n",
            "--------------------------------------------------------------------------------------------------------------------------------------------------------------------------------------------------------\n",
            "                                                                                                                                                                                                                0\n",
            "1                                                                                                                                                          In the beginning God created the heaven and the earth.\n",
            "27                                                                                                      So God created man in his own image, in the image of God created he him; male and female created he them.\n",
            "35                                                                 These are the generations of the heavens and of the earth when they were created, in the day that the LORD God made the earth and the heavens,\n",
            "40     And out of the ground made the LORD God to grow every tree that is pleasant to the sight, and good for food; the tree of life also in the midst of the garden, and the tree of knowledge of good and evil.\n",
            "49                                                                                                      And the LORD God said, It is not good that the man should be alone; I will make him an help meet for him.\n",
            "...                                                                                                                                                                                                           ...\n",
            "31077                                                           And the city had no need of the sun, neither of the moon, to shine in it: for the glory of God did lighten it, and the Lamb is the light thereof.\n",
            "31092              He that is unjust, let him be unjust still: and he which is filthy, let him be filthy still: and he that is righteous, let him be righteous still: and he that is holy, let him be holy still.\n",
            "31095                                                                  Blessed are they that do his commandments, that they may have right to the tree of life, and may enter in through the gates into the city.\n",
            "31099                 For I testify unto every man that heareth the words of the prophecy of this book, If any man shall add unto these things, God shall add unto him the plagues that are written in this book:\n",
            "31102                                                                                                                                                     The grace of our Lord Jesus Christ be with you all. Ame\n",
            "\n",
            "[3203 rows x 1 columns]\n",
            "--------------------------------------------------------------------------------------------------------------------------------------------------------------------------------------------------------\n",
            "                                                                                                                                                                                                            0\n",
            "3                                                                                                                                                      And God said, Let there be light: and there was light.\n",
            "4                                                                                                                       And God saw the light, that it was good: and God divided the light from the darkness.\n",
            "6                                                                                            And God said, Let there be a firmament in the midst of the waters, and let it divide the waters from the waters.\n",
            "9                                                                              And God said, Let the waters under the heaven be gathered together unto one place, and let the dry land appear: and it was so.\n",
            "31                                                                               And God saw every thing that he had made, and, behold, it was very good. And the evening and the morning were the sixth day.\n",
            "...                                                                                                                                                                                                       ...\n",
            "31035  And I saw an angel standing in the sun; and he cried with a loud voice, saying to all the fowls that fly in the midst of heaven, Come and gather yourselves together unto the supper of the great God;\n",
            "31054                                                                                                                 And whosoever was not found written in the book of life was cast into the lake of fire.\n",
            "31071                                                                       And he measured the wall thereof, an hundred and forty and four cubits, according to the measure of a man, that is, of the angel.\n",
            "31085                                                                                                                                  And they shall see his face; and his name shall be in their foreheads.\n",
            "31091                                                                                                       And he saith unto me, Seal not the sayings of the prophecy of this book: for the time is at hand.\n",
            "\n",
            "[2819 rows x 1 columns]\n",
            "--------------------------------------------------------------------------------------------------------------------------------------------------------------------------------------------------------\n"
          ]
        }
      ]
    },
    {
      "cell_type": "code",
      "source": [
        ""
      ],
      "metadata": {
        "id": "iwmbn5O0u6Tx"
      },
      "execution_count": 20,
      "outputs": []
    }
  ]
}