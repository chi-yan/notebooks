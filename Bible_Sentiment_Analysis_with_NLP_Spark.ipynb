{
  "nbformat": 4,
  "nbformat_minor": 0,
  "metadata": {
    "colab": {
      "name": "Bible Sentiment Analysis with NLP Spark.ipynb",
      "provenance": [],
      "collapsed_sections": [],
      "machine_shape": "hm",
      "authorship_tag": "ABX9TyMwDA2xFRTJ6TCHn0Xp0ZHh",
      "include_colab_link": true
    },
    "kernelspec": {
      "name": "python3",
      "display_name": "Python 3"
    },
    "language_info": {
      "name": "python"
    },
    "accelerator": "GPU"
  },
  "cells": [
    {
      "cell_type": "markdown",
      "metadata": {
        "id": "view-in-github",
        "colab_type": "text"
      },
      "source": [
        "<a href=\"https://colab.research.google.com/github/chi-yan/notebooks/blob/master/Bible_Sentiment_Analysis_with_NLP_Spark.ipynb\" target=\"_parent\"><img src=\"https://colab.research.google.com/assets/colab-badge.svg\" alt=\"Open In Colab\"/></a>"
      ]
    },
    {
      "cell_type": "code",
      "metadata": {
        "colab": {
          "base_uri": "https://localhost:8080/"
        },
        "id": "GgWwmk7JIkP9",
        "outputId": "5fea8cd8-3d15-47cf-b9f5-ac39022cf54f"
      },
      "source": [
        "!wget http://setup.johnsnowlabs.com/colab.sh -O - | bash"
      ],
      "execution_count": 1,
      "outputs": [
        {
          "output_type": "stream",
          "name": "stdout",
          "text": [
            "--2021-10-17 03:06:46--  http://setup.johnsnowlabs.com/colab.sh\n",
            "Resolving setup.johnsnowlabs.com (setup.johnsnowlabs.com)... 51.158.130.125\n",
            "Connecting to setup.johnsnowlabs.com (setup.johnsnowlabs.com)|51.158.130.125|:80... connected.\n",
            "HTTP request sent, awaiting response... 302 Found\n",
            "Location: https://setup.johnsnowlabs.com/colab.sh [following]\n",
            "--2021-10-17 03:06:46--  https://setup.johnsnowlabs.com/colab.sh\n",
            "Connecting to setup.johnsnowlabs.com (setup.johnsnowlabs.com)|51.158.130.125|:443... connected.\n",
            "HTTP request sent, awaiting response... 302 Moved Temporarily\n",
            "Location: https://raw.githubusercontent.com/JohnSnowLabs/spark-nlp/master/scripts/colab_setup.sh [following]\n",
            "--2021-10-17 03:06:47--  https://raw.githubusercontent.com/JohnSnowLabs/spark-nlp/master/scripts/colab_setup.sh\n",
            "Resolving raw.githubusercontent.com (raw.githubusercontent.com)... 185.199.109.133, 185.199.108.133, 185.199.111.133, ...\n",
            "Connecting to raw.githubusercontent.com (raw.githubusercontent.com)|185.199.109.133|:443... connected.\n",
            "HTTP request sent, awaiting response... 200 OK\n",
            "Length: 1608 (1.6K) [text/plain]\n",
            "Saving to: ‘STDOUT’\n",
            "\n",
            "-                   100%[===================>]   1.57K  --.-KB/s    in 0s      \n",
            "\n",
            "2021-10-17 03:06:47 (24.5 MB/s) - written to stdout [1608/1608]\n",
            "\n",
            "setup Colab for PySpark 3.0.3 and Spark NLP 3.3.0\n",
            "Hit:1 https://cloud.r-project.org/bin/linux/ubuntu bionic-cran40/ InRelease\n",
            "Ign:2 https://developer.download.nvidia.com/compute/cuda/repos/ubuntu1804/x86_64  InRelease\n",
            "Ign:3 https://developer.download.nvidia.com/compute/machine-learning/repos/ubuntu1804/x86_64  InRelease\n",
            "Hit:4 https://developer.download.nvidia.com/compute/cuda/repos/ubuntu1804/x86_64  Release\n",
            "Hit:5 http://security.ubuntu.com/ubuntu bionic-security InRelease\n",
            "Hit:6 https://developer.download.nvidia.com/compute/machine-learning/repos/ubuntu1804/x86_64  Release\n",
            "Hit:7 http://ppa.launchpad.net/c2d4u.team/c2d4u4.0+/ubuntu bionic InRelease\n",
            "Hit:8 http://archive.ubuntu.com/ubuntu bionic InRelease\n",
            "Hit:9 http://archive.ubuntu.com/ubuntu bionic-updates InRelease\n",
            "Hit:11 http://archive.ubuntu.com/ubuntu bionic-backports InRelease\n",
            "Hit:12 http://ppa.launchpad.net/cran/libgit2/ubuntu bionic InRelease\n",
            "Hit:14 http://ppa.launchpad.net/deadsnakes/ppa/ubuntu bionic InRelease\n",
            "Hit:15 http://ppa.launchpad.net/graphics-drivers/ppa/ubuntu bionic InRelease\n",
            "Reading package lists... Done\n"
          ]
        }
      ]
    },
    {
      "cell_type": "code",
      "metadata": {
        "id": "Tsx4jhxxIvVy"
      },
      "source": [
        "import pandas as pd\n",
        "import numpy as np\n",
        "import json\n",
        "from pyspark.ml import Pipeline\n",
        "from pyspark.sql import SparkSession\n",
        "import pyspark.sql.functions as F\n",
        "from sparknlp.annotator import *\n",
        "from sparknlp.base import *\n",
        "import sparknlp\n",
        "from sparknlp.pretrained import PretrainedPipeline"
      ],
      "execution_count": 2,
      "outputs": []
    },
    {
      "cell_type": "code",
      "metadata": {
        "id": "_XshV7VPIyR-"
      },
      "source": [
        "spark = sparknlp.start()"
      ],
      "execution_count": 3,
      "outputs": []
    },
    {
      "cell_type": "code",
      "metadata": {
        "colab": {
          "base_uri": "https://localhost:8080/"
        },
        "id": "SY3NPULkIz9e",
        "outputId": "11cf348b-76ec-4b3b-c376-badf1a2a6bff"
      },
      "source": [
        "pipeline = PretrainedPipeline('analyze_sentimentdl_glove_imdb', lang = 'en')"
      ],
      "execution_count": 4,
      "outputs": [
        {
          "output_type": "stream",
          "name": "stdout",
          "text": [
            "analyze_sentimentdl_glove_imdb download started this may take some time.\n",
            "Approx size to download 155.3 MB\n",
            "[OK!]\n"
          ]
        }
      ]
    },
    {
      "cell_type": "code",
      "metadata": {
        "colab": {
          "base_uri": "https://localhost:8080/"
        },
        "id": "xsg_t5USI1xO",
        "outputId": "c6894938-3cc7-45f8-c7d0-ed169437bcc5"
      },
      "source": [
        "import csv\n",
        "!curl https://raw.githubusercontent.com/EswarGitHub/BibleSearch/master/bible_data_set.csv -o bible_data_set.csv\n",
        "reader = csv.reader(open('bible_data_set.csv', 'r'))\n",
        "d = {}\n",
        "for row in reader:\n",
        "  k,_,_,_,v = row\n",
        "  d[k] = v[:-2] #  "
      ],
      "execution_count": 5,
      "outputs": [
        {
          "output_type": "stream",
          "name": "stdout",
          "text": [
            "  % Total    % Received % Xferd  Average Speed   Time    Time     Time  Current\n",
            "                                 Dload  Upload   Total   Spent    Left  Speed\n",
            "100 5010k  100 5010k    0     0  10.5M      0 --:--:-- --:--:-- --:--:-- 10.4M\n"
          ]
        }
      ]
    },
    {
      "cell_type": "code",
      "metadata": {
        "id": "D2RNhaoHIpP0"
      },
      "source": [
        "del d['citation'] #remove header row"
      ],
      "execution_count": 6,
      "outputs": []
    },
    {
      "cell_type": "code",
      "metadata": {
        "colab": {
          "base_uri": "https://localhost:8080/",
          "height": 35
        },
        "id": "kAFjqDQCWQQl",
        "outputId": "9c63801a-e550-481a-ba7e-28febcbea4ea"
      },
      "source": [
        "d['Genesis 1:1']"
      ],
      "execution_count": 25,
      "outputs": [
        {
          "output_type": "execute_result",
          "data": {
            "application/vnd.google.colaboratory.intrinsic+json": {
              "type": "string"
            },
            "text/plain": [
              "'In the beginning God created the heaven and the earth.'"
            ]
          },
          "metadata": {},
          "execution_count": 25
        }
      ]
    },
    {
      "cell_type": "code",
      "metadata": {
        "id": "3Uk0-BLpI4yz"
      },
      "source": [
        "def convertVerseToBook(verse):\n",
        "  if verse.split()[0] in ['1','2']:\n",
        "    book = verse.split()[0] + ' ' + verse.split()[1]\n",
        "  else:\n",
        "    book = verse.split()[0]\n",
        "  return(book)"
      ],
      "execution_count": 7,
      "outputs": []
    },
    {
      "cell_type": "code",
      "metadata": {
        "id": "BO7RwyBEI7Sb"
      },
      "source": [
        "verses = []\n",
        "text = []\n",
        "\n",
        "for verse in d:\n",
        "  verses.append(verse)\n",
        "  text.append(d[verse])\n"
      ],
      "execution_count": 8,
      "outputs": []
    },
    {
      "cell_type": "code",
      "metadata": {
        "id": "DtwSltolI94A"
      },
      "source": [
        "annotations =  pipeline.fullAnnotate(text)"
      ],
      "execution_count": 9,
      "outputs": []
    },
    {
      "cell_type": "code",
      "metadata": {
        "id": "uhWIhsjVI_9l",
        "colab": {
          "base_uri": "https://localhost:8080/"
        },
        "outputId": "4e8126f5-a6ae-4184-cd03-9acae4976142"
      },
      "source": [
        "len(sentiment)"
      ],
      "execution_count": 29,
      "outputs": [
        {
          "output_type": "execute_result",
          "data": {
            "text/plain": [
              "31102"
            ]
          },
          "metadata": {},
          "execution_count": 29
        }
      ]
    },
    {
      "cell_type": "code",
      "metadata": {
        "id": "85Mi9NtJVIfr"
      },
      "source": [
        "sentiment = []\n",
        "for i in range(len(annotations)):\n",
        "  sentiment.append(float(annotations[i]['sentiment'][0].metadata['pos']))"
      ],
      "execution_count": 34,
      "outputs": []
    },
    {
      "cell_type": "code",
      "metadata": {
        "id": "ofBUIM3Ebn2X"
      },
      "source": [
        "book = []\n",
        "for verse in verses:\n",
        "  book.append(convertVerseToBook(verse))"
      ],
      "execution_count": 35,
      "outputs": []
    },
    {
      "cell_type": "code",
      "metadata": {
        "id": "eUP5XR3McjCd"
      },
      "source": [
        "zippedList =  list(zip(verses, book, sentiment, text))"
      ],
      "execution_count": 36,
      "outputs": []
    },
    {
      "cell_type": "code",
      "metadata": {
        "id": "rw-QRq3hdQVH"
      },
      "source": [
        "df =  pd.DataFrame(zippedList, columns = ['Verse' , 'Book', 'Sentiment', 'Text'])"
      ],
      "execution_count": 37,
      "outputs": []
    },
    {
      "cell_type": "code",
      "metadata": {
        "colab": {
          "base_uri": "https://localhost:8080/",
          "height": 419
        },
        "id": "i6tT7Y1jfp6I",
        "outputId": "b063eefe-c5ee-4400-d404-336050903a76"
      },
      "source": [
        "df"
      ],
      "execution_count": 38,
      "outputs": [
        {
          "output_type": "execute_result",
          "data": {
            "text/html": [
              "<div>\n",
              "<style scoped>\n",
              "    .dataframe tbody tr th:only-of-type {\n",
              "        vertical-align: middle;\n",
              "    }\n",
              "\n",
              "    .dataframe tbody tr th {\n",
              "        vertical-align: top;\n",
              "    }\n",
              "\n",
              "    .dataframe thead th {\n",
              "        text-align: right;\n",
              "    }\n",
              "</style>\n",
              "<table border=\"1\" class=\"dataframe\">\n",
              "  <thead>\n",
              "    <tr style=\"text-align: right;\">\n",
              "      <th></th>\n",
              "      <th>Verse</th>\n",
              "      <th>Book</th>\n",
              "      <th>Sentiment</th>\n",
              "      <th>Text</th>\n",
              "    </tr>\n",
              "  </thead>\n",
              "  <tbody>\n",
              "    <tr>\n",
              "      <th>0</th>\n",
              "      <td>Genesis 1:1</td>\n",
              "      <td>Genesis</td>\n",
              "      <td>0.999998</td>\n",
              "      <td>In the beginning God created the heaven and th...</td>\n",
              "    </tr>\n",
              "    <tr>\n",
              "      <th>1</th>\n",
              "      <td>Genesis 1:2</td>\n",
              "      <td>Genesis</td>\n",
              "      <td>0.999997</td>\n",
              "      <td>And the earth was without form, and void; and ...</td>\n",
              "    </tr>\n",
              "    <tr>\n",
              "      <th>2</th>\n",
              "      <td>Genesis 1:3</td>\n",
              "      <td>Genesis</td>\n",
              "      <td>0.999994</td>\n",
              "      <td>And God said, Let there be light: and there wa...</td>\n",
              "    </tr>\n",
              "    <tr>\n",
              "      <th>3</th>\n",
              "      <td>Genesis 1:4</td>\n",
              "      <td>Genesis</td>\n",
              "      <td>0.999997</td>\n",
              "      <td>And God saw the light, that it was good: and G...</td>\n",
              "    </tr>\n",
              "    <tr>\n",
              "      <th>4</th>\n",
              "      <td>Genesis 1:5</td>\n",
              "      <td>Genesis</td>\n",
              "      <td>0.999999</td>\n",
              "      <td>And God called the light Day, and the darkness...</td>\n",
              "    </tr>\n",
              "    <tr>\n",
              "      <th>...</th>\n",
              "      <td>...</td>\n",
              "      <td>...</td>\n",
              "      <td>...</td>\n",
              "      <td>...</td>\n",
              "    </tr>\n",
              "    <tr>\n",
              "      <th>31097</th>\n",
              "      <td>Revelation 22:17</td>\n",
              "      <td>Revelation</td>\n",
              "      <td>0.999809</td>\n",
              "      <td>And the Spirit and the bride say, Come. And le...</td>\n",
              "    </tr>\n",
              "    <tr>\n",
              "      <th>31098</th>\n",
              "      <td>Revelation 22:18</td>\n",
              "      <td>Revelation</td>\n",
              "      <td>0.984770</td>\n",
              "      <td>For I testify unto every man that heareth the ...</td>\n",
              "    </tr>\n",
              "    <tr>\n",
              "      <th>31099</th>\n",
              "      <td>Revelation 22:19</td>\n",
              "      <td>Revelation</td>\n",
              "      <td>0.987182</td>\n",
              "      <td>And if any man shall take away from the words ...</td>\n",
              "    </tr>\n",
              "    <tr>\n",
              "      <th>31100</th>\n",
              "      <td>Revelation 22:20</td>\n",
              "      <td>Revelation</td>\n",
              "      <td>0.999988</td>\n",
              "      <td>He which testifieth these things saith, Surely...</td>\n",
              "    </tr>\n",
              "    <tr>\n",
              "      <th>31101</th>\n",
              "      <td>Revelation 22:21</td>\n",
              "      <td>Revelation</td>\n",
              "      <td>1.000000</td>\n",
              "      <td>The grace of our Lord Jesus Christ be with you...</td>\n",
              "    </tr>\n",
              "  </tbody>\n",
              "</table>\n",
              "<p>31102 rows × 4 columns</p>\n",
              "</div>"
            ],
            "text/plain": [
              "                  Verse  ...                                               Text\n",
              "0           Genesis 1:1  ...  In the beginning God created the heaven and th...\n",
              "1           Genesis 1:2  ...  And the earth was without form, and void; and ...\n",
              "2           Genesis 1:3  ...  And God said, Let there be light: and there wa...\n",
              "3           Genesis 1:4  ...  And God saw the light, that it was good: and G...\n",
              "4           Genesis 1:5  ...  And God called the light Day, and the darkness...\n",
              "...                 ...  ...                                                ...\n",
              "31097  Revelation 22:17  ...  And the Spirit and the bride say, Come. And le...\n",
              "31098  Revelation 22:18  ...  For I testify unto every man that heareth the ...\n",
              "31099  Revelation 22:19  ...  And if any man shall take away from the words ...\n",
              "31100  Revelation 22:20  ...  He which testifieth these things saith, Surely...\n",
              "31101  Revelation 22:21  ...  The grace of our Lord Jesus Christ be with you...\n",
              "\n",
              "[31102 rows x 4 columns]"
            ]
          },
          "metadata": {},
          "execution_count": 38
        }
      ]
    },
    {
      "cell_type": "code",
      "metadata": {
        "colab": {
          "base_uri": "https://localhost:8080/"
        },
        "id": "NcuOJCA0ebq2",
        "outputId": "f6dc2843-3cf6-4dfd-f0d2-ad0cd5e08d8f"
      },
      "source": [
        "pd.set_option('display.max_rows', 100)\n",
        "results = df.groupby('Book')['Sentiment'].mean().sort_values(ascending=False)\n",
        "print(results)"
      ],
      "execution_count": 48,
      "outputs": [
        {
          "output_type": "stream",
          "name": "stdout",
          "text": [
            "Book\n",
            "2 John             0.997030\n",
            "1 Chronicles       0.920554\n",
            "Philemon           0.909425\n",
            "Revelation         0.899109\n",
            "2 Chronicles       0.896613\n",
            "Daniel             0.882904\n",
            "Philippians        0.877638\n",
            "1 Kings            0.873048\n",
            "Haggai             0.863092\n",
            "1 Samuel           0.858588\n",
            "Genesis            0.857403\n",
            "Malachi            0.856458\n",
            "Ezra               0.854315\n",
            "2 Kings            0.850056\n",
            "Zechariah          0.845642\n",
            "Ephesians          0.842864\n",
            "Joshua             0.837799\n",
            "2 Samuel           0.833961\n",
            "Esther             0.827044\n",
            "Ruth               0.826732\n",
            "Song               0.824418\n",
            "3                  0.817267\n",
            "Judges             0.812573\n",
            "Numbers            0.811481\n",
            "1 Thessalonians    0.802876\n",
            "1 John             0.802708\n",
            "Deuteronomy        0.801811\n",
            "Ezekiel            0.800009\n",
            "Colossians         0.796707\n",
            "2 Timothy          0.794519\n",
            "Joel               0.788077\n",
            "Exodus             0.786656\n",
            "Nehemiah           0.780769\n",
            "1 Peter            0.778345\n",
            "Jonah              0.775889\n",
            "2 Thessalonians    0.772203\n",
            "Jeremiah           0.761615\n",
            "Psalms             0.760323\n",
            "Nahum              0.754920\n",
            "Hebrews            0.754096\n",
            "Isaiah             0.753802\n",
            "Micah              0.746846\n",
            "Amos               0.740562\n",
            "John               0.739772\n",
            "Zephaniah          0.737842\n",
            "Titus              0.737435\n",
            "Acts               0.735894\n",
            "Luke               0.735026\n",
            "2 Corinthians      0.724314\n",
            "Lamentations       0.720177\n",
            "Ecclesiastes       0.709239\n",
            "Jude               0.701913\n",
            "Matthew            0.699356\n",
            "Obadiah            0.685793\n",
            "Hosea              0.672864\n",
            "James              0.672104\n",
            "Mark               0.669658\n",
            "2 Peter            0.666356\n",
            "1 Corinthians      0.664501\n",
            "Romans             0.661554\n",
            "Proverbs           0.628989\n",
            "1 Timothy          0.628106\n",
            "Habakkuk           0.620374\n",
            "Job                0.617572\n",
            "Galatians          0.611293\n",
            "Leviticus          0.601236\n",
            "Name: Sentiment, dtype: float64\n"
          ]
        }
      ]
    },
    {
      "cell_type": "code",
      "metadata": {
        "id": "IPq89ep5fEQQ",
        "colab": {
          "base_uri": "https://localhost:8080/",
          "height": 404
        },
        "outputId": "b1374ebe-06d4-442c-880b-20a77ad50355"
      },
      "source": [
        "ax = results.plot.bar(x='Book',figsize=(20,5))"
      ],
      "execution_count": 54,
      "outputs": [
        {
          "output_type": "display_data",
          "data": {
            "image/png": "[encoded data removed]",
            "text/plain": [
              "<Figure size 1440x360 with 1 Axes>"
            ]
          },
          "metadata": {
            "needs_background": "light"
          }
        }
      ]
    },
    {
      "cell_type": "code",
      "metadata": {
        "id": "J57Bj3jRXBuM"
      },
      "source": [
        ""
      ],
      "execution_count": null,
      "outputs": []
    }
  ]
}