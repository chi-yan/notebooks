{
  "nbformat": 4,
  "nbformat_minor": 0,
  "metadata": {
    "colab": {
      "name": "Domain API Authorisation in Python.ipynb",
      "version": "0.3.2",
      "provenance": [],
      "include_colab_link": true
    },
    "kernelspec": {
      "display_name": "Python 3",
      "language": "python",
      "name": "python3"
    }
  },
  "cells": [
    {
      "cell_type": "markdown",
      "metadata": {
        "id": "view-in-github",
        "colab_type": "text"
      },
      "source": [
        "<a href=\"https://colab.research.google.com/github/chi-yan/notebooks/blob/master/Domain_API_Authorisation_in_Python.ipynb\" target=\"_parent\"><img src=\"https://colab.research.google.com/assets/colab-badge.svg\" alt=\"Open In Colab\"/></a>"
      ]
    },
    {
      "metadata": {
        "id": "203vYxTpUcFG",
        "colab_type": "text"
      },
      "cell_type": "markdown",
      "source": [
        "The Domain API provides programmatic access in property data from www.domain.com.au. The following code written in Python authorises API requests via client credentials, performs a request and receives a response. Ref: https://developer.domain.com.au/docs/authorisation/client-credentials-grant\n",
        "\n"
      ]
    },
    {
      "metadata": {
        "id": "RSC-ILyaUcFJ",
        "colab_type": "code",
        "colab": {}
      },
      "cell_type": "code",
      "source": [
        "import requests\n",
        "import json"
      ],
      "execution_count": 0,
      "outputs": []
    },
    {
      "metadata": {
        "id": "tkwOuyTfUcFN",
        "colab_type": "code",
        "colab": {}
      },
      "cell_type": "code",
      "source": [
        "client_id = ''     #<---------Put your own client ID and secret here\n",
        "client_secret = '' #<---------\n",
        "headers = {\n",
        "    'Content-Type': 'application/x-www-form-urlencoded',\n",
        "}\n",
        "\n",
        "data = {\n",
        "  'grant_type': 'client_credentials',\n",
        "  'scope': 'api_agencies_read'\n",
        "}\n",
        "\n",
        "response = requests.post('https://auth.domain.com.au/v1/connect/token', headers=headers, data=data, auth=(client_id, client_secret))"
      ],
      "execution_count": 0,
      "outputs": []
    },
    {
      "metadata": {
        "id": "-rDOSlHGUcFR",
        "colab_type": "code",
        "colab": {}
      },
      "cell_type": "code",
      "source": [
        "access_token = json.loads(response.text)['access_token']\n"
      ],
      "execution_count": 0,
      "outputs": []
    },
    {
      "metadata": {
        "id": "Q82o33tsUcFW",
        "colab_type": "code",
        "colab": {}
      },
      "cell_type": "code",
      "source": [
        "headers = {\n",
        "    'accept': 'application/json',\n",
        "    'Authorization': 'Bearer ' + access_token,\n",
        "}"
      ],
      "execution_count": 0,
      "outputs": []
    },
    {
      "metadata": {
        "id": "jlA41ld2UcFZ",
        "colab_type": "text"
      },
      "cell_type": "markdown",
      "source": [
        "The following request retrieves specific agency details based on their ID."
      ]
    },
    {
      "metadata": {
        "id": "1VKDVrwMUcFb",
        "colab_type": "code",
        "colab": {}
      },
      "cell_type": "code",
      "source": [
        "response = requests.get('https://api.domain.com.au/v1/agencies/22473', headers=headers)\n",
        "#print(response)"
      ],
      "execution_count": 0,
      "outputs": []
    },
    {
      "metadata": {
        "id": "HVEM6jKpUcFe",
        "colab_type": "code",
        "colab": {}
      },
      "cell_type": "code",
      "source": [
        "client_id = ''    #<---------Put your own client ID and secret here\n",
        "client_secret = ''#<----------------------\n",
        "headers = {\n",
        "    'Content-Type': 'application/x-www-form-urlencoded',\n",
        "}\n",
        "\n",
        "data = {\n",
        "  'grant_type': 'client_credentials',\n",
        "  'scope': 'api_salesresults_read'\n",
        "}\n",
        "\n",
        "response = requests.post('https://auth.domain.com.au/v1/connect/token', headers=headers, data=data, auth=(client_id, client_secret))"
      ],
      "execution_count": 0,
      "outputs": []
    },
    {
      "metadata": {
        "id": "O_-h7-mcUcFi",
        "colab_type": "code",
        "colab": {}
      },
      "cell_type": "code",
      "source": [
        "access_token = json.loads(response.text)['access_token']"
      ],
      "execution_count": 0,
      "outputs": []
    },
    {
      "metadata": {
        "id": "WLOJpOjHUcFq",
        "colab_type": "code",
        "colab": {}
      },
      "cell_type": "code",
      "source": [
        "headers = {\n",
        "    'accept': 'application/json',\n",
        "    'Authorization': 'Bearer ' + access_token,\n",
        "}"
      ],
      "execution_count": 0,
      "outputs": []
    },
    {
      "metadata": {
        "id": "bN4GyPiRUcFw",
        "colab_type": "text"
      },
      "cell_type": "markdown",
      "source": [
        "The following request retrieves sales results for a given city."
      ]
    },
    {
      "metadata": {
        "id": "XowXQGwGUcFx",
        "colab_type": "code",
        "colab": {}
      },
      "cell_type": "code",
      "source": [
        "response = requests.get('https://api.domain.com.au/v1/salesResults/Sydney', headers=headers)"
      ],
      "execution_count": 0,
      "outputs": []
    },
    {
      "metadata": {
        "id": "g2Ld3EeyUcF1",
        "colab_type": "code",
        "colab": {}
      },
      "cell_type": "code",
      "source": [
        "details = json.loads(response.text)"
      ],
      "execution_count": 0,
      "outputs": []
    },
    {
      "metadata": {
        "id": "tbL2P5tIUcF4",
        "colab_type": "code",
        "colab": {},
        "outputId": "565a52b8-39bd-47b6-e6fa-abc024694de7"
      },
      "cell_type": "code",
      "source": [
        "details"
      ],
      "execution_count": 0,
      "outputs": [
        {
          "output_type": "execute_result",
          "data": {
            "text/plain": [
              "{'adjClearanceRate': 0.4257246376811594,\n",
              " 'median': 1060000,\n",
              " 'numberAuctioned': 374,\n",
              " 'numberListedForAuction': 751,\n",
              " 'numberSold': 235,\n",
              " 'numberUnreported': 20,\n",
              " 'numberWithdrawn': 178,\n",
              " 'totalSales': 147612250.0}"
            ]
          },
          "metadata": {
            "tags": []
          },
          "execution_count": 171
        }
      ]
    },
    {
      "metadata": {
        "id": "Qjoi1luaUcF-",
        "colab_type": "code",
        "colab": {}
      },
      "cell_type": "code",
      "source": [
        ""
      ],
      "execution_count": 0,
      "outputs": []
    }
  ]
}
