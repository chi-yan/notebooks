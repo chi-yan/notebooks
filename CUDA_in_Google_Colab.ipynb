{
  "nbformat": 4,
  "nbformat_minor": 0,
  "metadata": {
    "colab": {
      "name": "CUDA in Google Colab.ipynb",
      "provenance": [],
      "authorship_tag": "ABX9TyNAhL+X0XFD+HfoyI/lzTSo",
      "include_colab_link": true
    },
    "kernelspec": {
      "name": "python3",
      "display_name": "Python 3"
    },
    "language_info": {
      "name": "python"
    },
    "accelerator": "GPU"
  },
  "cells": [
    {
      "cell_type": "markdown",
      "metadata": {
        "id": "view-in-github",
        "colab_type": "text"
      },
      "source": [
        "<a href=\"https://colab.research.google.com/github/chi-yan/notebooks/blob/master/CUDA_in_Google_Colab.ipynb\" target=\"_parent\"><img src=\"https://colab.research.google.com/assets/colab-badge.svg\" alt=\"Open In Colab\"/></a>"
      ]
    },
    {
      "cell_type": "markdown",
      "source": [
        "Running code from \n",
        "\n",
        "https://www.udemy.com/course/introduction-to-parallel-programming-using-gpgpu-and-cuda/learn/lecture/8077270#learning-tools\n",
        "\n",
        "in Google Colab environment\n"
      ],
      "metadata": {
        "id": "jHxehgnb27Dv"
      }
    },
    {
      "cell_type": "code",
      "execution_count": null,
      "metadata": {
        "colab": {
          "base_uri": "https://localhost:8080/"
        },
        "id": "mht8T3nEgUrP",
        "outputId": "d658bc03-55f4-4189-d2ba-e64dc32f9586"
      },
      "outputs": [
        {
          "output_type": "stream",
          "name": "stdout",
          "text": [
            "Overwriting hello_world.cu\n"
          ]
        }
      ],
      "source": [
        "%%writefile hello_world.cu\n",
        "\n",
        "#include \"stdio.h\"\n",
        "\n",
        "__global__ void mykernel(void) {}\n",
        "\n",
        "int main(void) {\n",
        "  mykernel<<<1,1>>>();\n",
        "  printf(\"Hello world!\\n\");\n",
        "  return 0;\n",
        "}"
      ]
    },
    {
      "cell_type": "code",
      "source": [
        "!nvcc hello_world.cu"
      ],
      "metadata": {
        "id": "TrJQr65Tgzek"
      },
      "execution_count": null,
      "outputs": []
    },
    {
      "cell_type": "code",
      "source": [
        "!./a.out"
      ],
      "metadata": {
        "colab": {
          "base_uri": "https://localhost:8080/"
        },
        "id": "NzAkQgv9h01H",
        "outputId": "b3af729c-16b2-47e9-9b1c-42669bcb98c2"
      },
      "execution_count": null,
      "outputs": [
        {
          "output_type": "stream",
          "name": "stdout",
          "text": [
            "Hello world!\n"
          ]
        }
      ]
    },
    {
      "cell_type": "code",
      "source": [
        "%%writefile add.cu\n",
        "\n",
        "#include \"stdio.h\"\n",
        "\n",
        "__global__ void add(int *a, int *b, int *c) {\n",
        "*c = *a + *b;\n",
        "}\n",
        "int main(void) {\n",
        "  int a, b, c; // host copies of a, b, c\n",
        "  int *d_a, *d_b, *d_c; // device copies of a, b, c\n",
        "  int size = sizeof(int);\n",
        "  // Allocate space for device copies of a, b, c\n",
        "  cudaMalloc((void **)&d_a, size);\n",
        "  cudaMalloc((void **)&d_b, size);\n",
        "  cudaMalloc((void **)&d_c, size);\n",
        "  // Setup input values\n",
        "  a = 2;\n",
        "  b = 9;\n",
        "  // Copy inputs to device\n",
        "  cudaMemcpy(d_a, &a, size, cudaMemcpyHostToDevice);\n",
        "  cudaMemcpy(d_b, &b, size, cudaMemcpyHostToDevice);\n",
        "  // Launch add() kernel on GPU\n",
        "  add<<<1,1>>>(d_a, d_b, d_c);\n",
        "  // Copy result back to host\n",
        "  cudaMemcpy(&c, d_c, size, cudaMemcpyDeviceToHost);\n",
        "  // Cleanup\n",
        "  cudaFree(d_a); cudaFree(d_b); cudaFree(d_c);\n",
        "  printf(\"Result: %d\",c);\n",
        "  return 0;\n",
        "}"
      ],
      "metadata": {
        "colab": {
          "base_uri": "https://localhost:8080/"
        },
        "id": "XoFbOPBCh3E8",
        "outputId": "082038bb-e81d-4b1e-a6aa-8e2c64112281"
      },
      "execution_count": null,
      "outputs": [
        {
          "output_type": "stream",
          "name": "stdout",
          "text": [
            "Overwriting add.cu\n"
          ]
        }
      ]
    },
    {
      "cell_type": "code",
      "source": [
        "!nvcc add.cu \n",
        "!./a.out"
      ],
      "metadata": {
        "colab": {
          "base_uri": "https://localhost:8080/"
        },
        "id": "pmBbfwHBmzA1",
        "outputId": "206f3f71-3c9b-46f6-feae-ff598a440c6e"
      },
      "execution_count": null,
      "outputs": [
        {
          "output_type": "stream",
          "name": "stdout",
          "text": [
            "Result: 11"
          ]
        }
      ]
    },
    {
      "cell_type": "code",
      "source": [
        ""
      ],
      "metadata": {
        "colab": {
          "base_uri": "https://localhost:8080/"
        },
        "id": "rIkjW1eim1Gv",
        "outputId": "f2ca4866-c9fb-40d9-a7af-8f59f9fab1cc"
      },
      "execution_count": null,
      "outputs": [
        {
          "output_type": "stream",
          "name": "stdout",
          "text": [
            "Result: 7"
          ]
        }
      ]
    },
    {
      "cell_type": "code",
      "source": [
        "%%writefile add2.cu\n",
        "\n",
        "#include \"stdio.h\"\n",
        "\n",
        "__global__ \n",
        "void add(int *a, int *b, int *c) {\n",
        "    c[blockIdx.x] = a[blockIdx.x] + b[blockIdx.x];\n",
        "    printf(\"Block: %d\\n\", blockIdx.x);\n",
        "}\n",
        "\n",
        "void random_ints(int* a, int N) {\n",
        "   int i;\n",
        "   for (i = 0; i < N; ++i)\n",
        "    a[i] = rand() % 100;\n",
        "}\n",
        "#define N 16\n",
        "int main(void) {\n",
        "    int *a, *b, *c; // host copies of a, b, c\n",
        "    int *d_a, *d_b, *d_c; // device copies of a, b, c\n",
        "    int size = N * sizeof(int);\n",
        "    // Alloc space for device copies of a, b, c\n",
        "    cudaMalloc((void **)&d_a, size);\n",
        "    cudaMalloc((void **)&d_b, size);\n",
        "    cudaMalloc((void **)&d_c, size);\n",
        "    // Alloc space for host copies of a, b, c and setup input values\n",
        "    a = (int *)malloc(size); random_ints(a, N);\n",
        "    b = (int *)malloc(size); random_ints(b, N);\n",
        "    c = (int *)malloc(size);\n",
        "    // Copy inputs to device\n",
        "    cudaMemcpy(d_a, a, size, cudaMemcpyHostToDevice);\n",
        "    cudaMemcpy(d_b, b, size, cudaMemcpyHostToDevice);\n",
        "    // Launch add() kernel on GPU with N blocks\n",
        "    add<<<N,1>>>(d_a, d_b, d_c);\n",
        "    // Copy result back to host\n",
        "    cudaMemcpy(c, d_c, size, cudaMemcpyDeviceToHost);\n",
        "    printf(\"Result: %d %d %d\",a[4],b[4],c[4]);\n",
        "    // Cleanup\n",
        "    free(a); free(b); free(c);\n",
        "    cudaFree(d_a); cudaFree(d_b); cudaFree(d_c);\n",
        "    return 0;\n",
        "}"
      ],
      "metadata": {
        "id": "Wxv9p_mHm2v3",
        "colab": {
          "base_uri": "https://localhost:8080/"
        },
        "outputId": "c4bb4541-85e6-495a-e270-dbedd3fabe67"
      },
      "execution_count": 31,
      "outputs": [
        {
          "output_type": "stream",
          "name": "stdout",
          "text": [
            "Overwriting add2.cu\n"
          ]
        }
      ]
    },
    {
      "cell_type": "code",
      "source": [
        "!nvcc add2.cu \n",
        "!./a.out"
      ],
      "metadata": {
        "colab": {
          "base_uri": "https://localhost:8080/"
        },
        "id": "vYYxQclL08-D",
        "outputId": "b3b7acaf-3917-4a38-9156-a90ff09eea48"
      },
      "execution_count": 32,
      "outputs": [
        {
          "output_type": "stream",
          "name": "stdout",
          "text": [
            "Block: 15\n",
            "Block: 9\n",
            "Block: 6\n",
            "Block: 3\n",
            "Block: 12\n",
            "Block: 0\n",
            "Block: 10\n",
            "Block: 4\n",
            "Block: 7\n",
            "Block: 1\n",
            "Block: 8\n",
            "Block: 14\n",
            "Block: 11\n",
            "Block: 13\n",
            "Block: 5\n",
            "Block: 2\n",
            "Result: 93 11 104"
          ]
        }
      ]
    },
    {
      "cell_type": "code",
      "source": [
        ""
      ],
      "metadata": {
        "id": "e0zvFc--0_Yv"
      },
      "execution_count": null,
      "outputs": []
    }
  ]
}