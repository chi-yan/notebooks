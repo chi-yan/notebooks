{
  "nbformat": 4,
  "nbformat_minor": 0,
  "metadata": {
    "colab": {
      "name": "NLP (Bible Text Encoding with the Universal Text Encoder)",
      "provenance": [],
      "collapsed_sections": [],
      "machine_shape": "hm",
      "authorship_tag": "ABX9TyMmThbZFUwBYoVtZ/7KCCr6",
      "include_colab_link": true
    },
    "kernelspec": {
      "name": "python3",
      "display_name": "Python 3"
    },
    "accelerator": "GPU"
  },
  "cells": [
    {
      "cell_type": "markdown",
      "metadata": {
        "id": "view-in-github",
        "colab_type": "text"
      },
      "source": [
        "<a href=\"https://colab.research.google.com/github/chi-yan/notebooks/blob/master/NLP_(Bible_Text_Encoding_with_the_Universal_Text_Encoder).ipynb\" target=\"_parent\"><img src=\"https://colab.research.google.com/assets/colab-badge.svg\" alt=\"Open In Colab\"/></a>"
      ]
    },
    {
      "cell_type": "markdown",
      "metadata": {
        "id": "Wj43ap3N9mga"
      },
      "source": [
        "This Google Colab notebook uses Natural Language Processing (NLP) techniques \n",
        "to detect Bible verses that are most similar to a random block of text. Word numerical (high-ordered vectors) obtained via the \"Universal Text Encoder\" is used to numerically model these verses.`\n",
        "\n",
        "Cosine similarity is to quantify similarity (in meaning) between sentences. A similiarity close to 0 indicates that two sentences are similar in meaning.\n",
        "\n",
        "References:\n",
        "\n",
        "http://www.ijstr.org/final-print/dec2019/Lexical-And-Semantic-Analysis-Of-Sacred-Texts-Using-Machine-Learning-And-Natural-Language-Processing.pdf (see Section 3.4)\n",
        "\n",
        "https://tfhub.dev/google/universal-sentence-encoder/1"
      ]
    },
    {
      "cell_type": "code",
      "metadata": {
        "id": "EHxvwfAJAyI0",
        "colab": {
          "base_uri": "https://localhost:8080/"
        },
        "outputId": "9026d4c9-ff86-49b5-ee4d-2bbc8d597389"
      },
      "source": [
        "import numpy as np # linear algebra\n",
        "import pandas as pd #\n",
        "import tensorflow_hub as hub\n",
        "import csv\n",
        "import pprint\n",
        "from tabulate import tabulate\n",
        "from collections import OrderedDict\n",
        "from operator import itemgetter\n",
        "text = 'cats and dogs' #@param {type:\"string\", run:\"auto\"}\n",
        " \n",
        "def cosine_similarity(A, B):\n",
        "    '''\n",
        "    Input:\n",
        "        A: a numpy array which corresponds to a word vector\n",
        "        B: A numpy array which corresponds to a word vector\n",
        "    Output:\n",
        "        cos: numerical number representing the cosine similarity between A and B.\n",
        "    '''\n",
        "    # you have to set this variable to the true label.\n",
        "    cos = -10\n",
        "    dot = np.dot(A, B)\n",
        "    norma = np.linalg.norm(A)\n",
        "    normb = np.linalg.norm(B)\n",
        "    cos = dot / (norma * normb)\n",
        " \n",
        "    return cos\n",
        " \n",
        "if 'init' not in locals():\n",
        "  init = True\n",
        "  !curl https://raw.githubusercontent.com/EswarGitHub/BibleSearch/master/bible_data_set.csv -o bible_data_set.csv\n",
        "  reader = csv.reader(open('bible_data_set.csv', 'r'))\n",
        "  d = {}\n",
        "  for row in reader:\n",
        "    k,_,_,_,v = row\n",
        "    d[k] = v[:-2] #    \n",
        "  embed = hub.load(\"https://tfhub.dev/google/universal-sentence-encoder/4\")\n",
        "  embeddings = embed(list(d.values()))\n",
        "  versedict = {}\n",
        "  for i, verse in enumerate(d):\n",
        "    versedict[i] = verse\n",
        " "
      ],
      "execution_count": 1,
      "outputs": [
        {
          "output_type": "stream",
          "name": "stdout",
          "text": [
            "  % Total    % Received % Xferd  Average Speed   Time    Time     Time  Current\n",
            "                                 Dload  Upload   Total   Spent    Left  Speed\n",
            "100 5010k  100 5010k    0     0  10.1M      0 --:--:-- --:--:-- --:--:-- 10.1M\n"
          ]
        }
      ]
    },
    {
      "cell_type": "code",
      "metadata": {
        "id": "efmmnrGwGhk4"
      },
      "source": [
        "\n",
        "import pickle\n",
        "with open('embeddings.pickle', 'wb') as f:\n",
        "    pickle.dump(embeddings, f)"
      ],
      "execution_count": 2,
      "outputs": []
    },
    {
      "cell_type": "code",
      "metadata": {
        "id": "R2oOcB2xbqBM"
      },
      "source": [
        "import pickle\n",
        "with open('data.pickle', 'wb') as f:\n",
        "    pickle.dump(d, f)"
      ],
      "execution_count": 3,
      "outputs": []
    },
    {
      "cell_type": "code",
      "metadata": {
        "id": "Or-QFrjQISYs",
        "colab": {
          "base_uri": "https://localhost:8080/"
        },
        "outputId": "c151cb3c-33f7-4013-b2e7-8e404fe77f34"
      },
      "source": [
        "embeddings"
      ],
      "execution_count": 4,
      "outputs": [
        {
          "output_type": "execute_result",
          "data": {
            "text/plain": [
              "<tf.Tensor: shape=(31103, 512), dtype=float32, numpy=\n",
              "array([[ 0.00468304, -0.08392566, -0.01649407, ..., -0.03823555,\n",
              "         0.00346091, -0.10069176],\n",
              "       [-0.05283082, -0.00314456,  0.05393992, ..., -0.05066366,\n",
              "         0.05926256,  0.00790901],\n",
              "       [-0.04331737,  0.01895819, -0.04516518, ..., -0.00918443,\n",
              "         0.02742366,  0.04344476],\n",
              "       ...,\n",
              "       [-0.03668365, -0.02885344,  0.04155295, ..., -0.01788977,\n",
              "         0.09710161,  0.07535172],\n",
              "       [-0.01769449, -0.03582925, -0.00357679, ...,  0.01731504,\n",
              "        -0.03287546,  0.01774418],\n",
              "       [-0.01537722, -0.04798327, -0.03328145, ...,  0.02343451,\n",
              "         0.01298576,  0.00462452]], dtype=float32)>"
            ]
          },
          "metadata": {},
          "execution_count": 4
        }
      ]
    },
    {
      "cell_type": "code",
      "metadata": {
        "id": "5l7gJcnKyHiT"
      },
      "source": [
        "import pickle\n",
        "with open('versedict.pickle', 'wb') as f:\n",
        "    pickle.dump(versedict, f)"
      ],
      "execution_count": 5,
      "outputs": []
    },
    {
      "cell_type": "code",
      "metadata": {
        "id": "L6p4Dv4a3tUT",
        "colab": {
          "base_uri": "https://localhost:8080/",
          "height": 35
        },
        "outputId": "45764d1c-b83a-4f5e-fad4-70333b7a8bd2"
      },
      "source": [
        "d['Genesis 32:15']"
      ],
      "execution_count": 6,
      "outputs": [
        {
          "output_type": "execute_result",
          "data": {
            "application/vnd.google.colaboratory.intrinsic+json": {
              "type": "string"
            },
            "text/plain": [
              "'Thirty milch camels with their colts, forty kine, and ten bulls, twenty she asses, and ten foals.'"
            ]
          },
          "metadata": {},
          "execution_count": 6
        }
      ]
    },
    {
      "cell_type": "code",
      "metadata": {
        "id": "eHnb7l7ayFS7"
      },
      "source": [
        "\n",
        "def cosine_similarities(A, B): #A is the big matrix containing all embeddings, B is the sentence\n",
        "    return np.divide(np.dot(A,B),np.apply_along_axis(np.linalg.norm, 1, A)*np.linalg.norm(B))[:,0]"
      ],
      "execution_count": 7,
      "outputs": []
    },
    {
      "cell_type": "code",
      "metadata": {
        "colab": {
          "base_uri": "https://localhost:8080/",
          "height": 204
        },
        "id": "ykg9xsvgs_2C",
        "outputId": "883b1dcc-95c3-4d2c-a7aa-67a756c7a664"
      },
      "source": [
        "\n",
        "\n",
        "def generateSimilarities(text, numberOfItems):\n",
        "  embedded_text = embed([text])\n",
        "  similarities = cosine_similarities(embeddings.numpy(), embedded_text.numpy().T)\n",
        "  data = []\n",
        "  for i in range(len(embeddings)):\n",
        "    data.append([versedict[i],d[versedict[i]],similarities[i]])\n",
        "  return(pd.DataFrame (data, columns = ['Verse', 'Text', 'Similarity']).sort_values(by=['Similarity'], ascending=False).head(numberOfItems))\n",
        "\n",
        "pd.set_option('max_colwidth', 500)\n",
        "\n",
        "generateSimilarities(\"only son\",5)\n"
      ],
      "execution_count": 8,
      "outputs": [
        {
          "output_type": "execute_result",
          "data": {
            "text/html": [
              "<div>\n",
              "<style scoped>\n",
              "    .dataframe tbody tr th:only-of-type {\n",
              "        vertical-align: middle;\n",
              "    }\n",
              "\n",
              "    .dataframe tbody tr th {\n",
              "        vertical-align: top;\n",
              "    }\n",
              "\n",
              "    .dataframe thead th {\n",
              "        text-align: right;\n",
              "    }\n",
              "</style>\n",
              "<table border=\"1\" class=\"dataframe\">\n",
              "  <thead>\n",
              "    <tr style=\"text-align: right;\">\n",
              "      <th></th>\n",
              "      <th>Verse</th>\n",
              "      <th>Text</th>\n",
              "      <th>Similarity</th>\n",
              "    </tr>\n",
              "  </thead>\n",
              "  <tbody>\n",
              "    <tr>\n",
              "      <th>10563</th>\n",
              "      <td>1 Chronicles 7:27</td>\n",
              "      <td>Non his son, Jehoshuah his son.</td>\n",
              "      <td>0.454879</td>\n",
              "    </tr>\n",
              "    <tr>\n",
              "      <th>26063</th>\n",
              "      <td>John 1:18</td>\n",
              "      <td>No man hath seen God at any time, the only begotten Son, which is in the bosom of the Father, he hath declared him.</td>\n",
              "      <td>0.422034</td>\n",
              "    </tr>\n",
              "    <tr>\n",
              "      <th>564</th>\n",
              "      <td>Genesis 22:16</td>\n",
              "      <td>And said, By myself have I sworn, saith the LORD, for because thou hast done this thing, and hast not withheld thy son, thine only son:</td>\n",
              "      <td>0.414489</td>\n",
              "    </tr>\n",
              "    <tr>\n",
              "      <th>25340</th>\n",
              "      <td>Luke 9:38</td>\n",
              "      <td>And, behold, a man of the company cried out, saying, Master, I beseech thee, look upon my son: for he is mine only child.</td>\n",
              "      <td>0.399740</td>\n",
              "    </tr>\n",
              "    <tr>\n",
              "      <th>27396</th>\n",
              "      <td>Acts 13:33</td>\n",
              "      <td>God hath fulfilled the same unto us their children, in that he hath raised up Jesus again; as it is also written in the second psalm, Thou art my Son, this day have I begotten thee.</td>\n",
              "      <td>0.386815</td>\n",
              "    </tr>\n",
              "  </tbody>\n",
              "</table>\n",
              "</div>"
            ],
            "text/plain": [
              "                   Verse  ... Similarity\n",
              "10563  1 Chronicles 7:27  ...   0.454879\n",
              "26063          John 1:18  ...   0.422034\n",
              "564        Genesis 22:16  ...   0.414489\n",
              "25340          Luke 9:38  ...   0.399740\n",
              "27396         Acts 13:33  ...   0.386815\n",
              "\n",
              "[5 rows x 3 columns]"
            ]
          },
          "metadata": {},
          "execution_count": 8
        }
      ]
    },
    {
      "cell_type": "code",
      "metadata": {
        "colab": {
          "base_uri": "https://localhost:8080/",
          "height": 204
        },
        "id": "-lOGsTZh0dUZ",
        "outputId": "e89a68e8-342d-4fcb-d9ba-e669d3af52b4"
      },
      "source": [
        "generateSimilarities(d['Genesis 1:1'],5)"
      ],
      "execution_count": 9,
      "outputs": [
        {
          "output_type": "execute_result",
          "data": {
            "text/html": [
              "<div>\n",
              "<style scoped>\n",
              "    .dataframe tbody tr th:only-of-type {\n",
              "        vertical-align: middle;\n",
              "    }\n",
              "\n",
              "    .dataframe tbody tr th {\n",
              "        vertical-align: top;\n",
              "    }\n",
              "\n",
              "    .dataframe thead th {\n",
              "        text-align: right;\n",
              "    }\n",
              "</style>\n",
              "<table border=\"1\" class=\"dataframe\">\n",
              "  <thead>\n",
              "    <tr style=\"text-align: right;\">\n",
              "      <th></th>\n",
              "      <th>Verse</th>\n",
              "      <th>Text</th>\n",
              "      <th>Similarity</th>\n",
              "    </tr>\n",
              "  </thead>\n",
              "  <tbody>\n",
              "    <tr>\n",
              "      <th>1</th>\n",
              "      <td>Genesis 1:1</td>\n",
              "      <td>In the beginning God created the heaven and the earth.</td>\n",
              "      <td>1.000000</td>\n",
              "    </tr>\n",
              "    <tr>\n",
              "      <th>35</th>\n",
              "      <td>Genesis 2:4</td>\n",
              "      <td>These are the generations of the heavens and of the earth when they were created, in the day that the LORD God made the earth and the heavens,</td>\n",
              "      <td>0.738225</td>\n",
              "    </tr>\n",
              "    <tr>\n",
              "      <th>15846</th>\n",
              "      <td>Psalms 115:15</td>\n",
              "      <td>Ye are blessed of the LORD which made heaven and earth.</td>\n",
              "      <td>0.626305</td>\n",
              "    </tr>\n",
              "    <tr>\n",
              "      <th>16626</th>\n",
              "      <td>Proverbs 8:23</td>\n",
              "      <td>I was set up from everlasting, from the beginning, or ever the earth was.</td>\n",
              "      <td>0.624477</td>\n",
              "    </tr>\n",
              "    <tr>\n",
              "      <th>15820</th>\n",
              "      <td>Psalms 113:6</td>\n",
              "      <td>Who humbleth himself to behold the things that are in heaven, and in the earth!</td>\n",
              "      <td>0.604734</td>\n",
              "    </tr>\n",
              "  </tbody>\n",
              "</table>\n",
              "</div>"
            ],
            "text/plain": [
              "               Verse  ... Similarity\n",
              "1        Genesis 1:1  ...   1.000000\n",
              "35       Genesis 2:4  ...   0.738225\n",
              "15846  Psalms 115:15  ...   0.626305\n",
              "16626  Proverbs 8:23  ...   0.624477\n",
              "15820   Psalms 113:6  ...   0.604734\n",
              "\n",
              "[5 rows x 3 columns]"
            ]
          },
          "metadata": {},
          "execution_count": 9
        }
      ]
    },
    {
      "cell_type": "code",
      "metadata": {
        "colab": {
          "base_uri": "https://localhost:8080/"
        },
        "id": "x8myiMWJ4Pzw",
        "outputId": "4ed9d444-d703-4dd3-8e54-21247996563a"
      },
      "source": [
        "pd.set_option('max_colwidth', 500)\n",
        "print(df.sort_values(by=['Similarity'], ascending=False))\n"
      ],
      "execution_count": 164,
      "outputs": [
        {
          "output_type": "stream",
          "name": "stdout",
          "text": [
            "               Verse                                                                                                                                                       Text  Similarity\n",
            "26137      John 3:17                                               For God sent not his Son into the world to condemn the world; but that the world through him might be saved.    0.523826\n",
            "26136      John 3:16              For God so loved the world, that he gave his only begotten Son, that whosoever believeth in him should not perish, but have everlasting life.    0.452966\n",
            "28148    Romans 8:32                                 He that spared not his own Son, but delivered him up for us all, how shall he not with him also freely give us all things?    0.427742\n",
            "4730   Numbers 32:12                                           Save Caleb the son of Jephunneh the Kenezite, and Joshua the son of Nun: for they have wholly followed the LORD.    0.427722\n",
            "23738  Matthew 18:11                                                                                                    For the Son of man is come to save that which was lost.    0.421307\n",
            "...              ...                                                                                                                                                        ...         ...\n",
            "13593       Job 31:5                                                                                         If I have walked with vanity, or if my foot hath hasted to deceit;   -0.203070\n",
            "2598    Exodus 36:32                   And five bars for the boards of the other side of the tabernacle, and five bars for the boards of the tabernacle for the sides westward.   -0.218216\n",
            "2262    Exodus 26:27  And five bars for the boards of the other side of the tabernacle, and five bars for the boards of the side of the tabernacle, for the two sides westward.   -0.227212\n",
            "30407    1 Peter 2:8            And a stone of stumbling, and a rock of offence, even to them which stumble at the word, being disobedient: whereunto also they were appointed.   -0.233600\n",
            "15022    Psalms 73:2                                                                                   But as for me, my feet were almost gone; my steps had well nigh slipped.   -0.237570\n",
            "\n",
            "[31102 rows x 3 columns]\n"
          ]
        }
      ]
    },
    {
      "cell_type": "code",
      "metadata": {
        "id": "h9QIm-vQvlWo"
      },
      "source": [
        ""
      ],
      "execution_count": null,
      "outputs": []
    }
  ]
}