{
  "nbformat": 4,
  "nbformat_minor": 0,
  "metadata": {
    "colab": {
      "name": "NLP (Bible Text Encoding with the Universal Text Encoder)",
      "provenance": [],
      "collapsed_sections": [],
      "authorship_tag": "ABX9TyMIn8mmu49ijRUFvpFAOl2p",
      "include_colab_link": true
    },
    "kernelspec": {
      "name": "python3",
      "display_name": "Python 3"
    }
  },
  "cells": [
    {
      "cell_type": "markdown",
      "metadata": {
        "id": "view-in-github",
        "colab_type": "text"
      },
      "source": [
        "<a href=\"https://colab.research.google.com/github/chi-yan/notebooks/blob/master/NLP_(Bible_Text_Encoding_with_the_Universal_Text_Encoder).ipynb\" target=\"_parent\"><img src=\"https://colab.research.google.com/assets/colab-badge.svg\" alt=\"Open In Colab\"/></a>"
      ]
    },
    {
      "cell_type": "markdown",
      "metadata": {
        "id": "Wj43ap3N9mga"
      },
      "source": [
        "This Google Colab notebook uses Natural Language Processing (NLP) techniques \n",
        "to detect Bible verses that are most similar to a random block of text. Word numerical (high-ordered vectors) obtained via the \"Universal Text Encoder\" is used to numerically model these verses.`\n",
        "\n",
        "Cosine similarity is to quantify similarity (in meaning) between sentences. A similiarity close to 0 indicates that two sentences are similar in meaning.\n",
        "\n",
        "References:\n",
        "\n",
        "http://www.ijstr.org/final-print/dec2019/Lexical-And-Semantic-Analysis-Of-Sacred-Texts-Using-Machine-Learning-And-Natural-Language-Processing.pdf (see Section 3.4)\n",
        "\n",
        "https://tfhub.dev/google/universal-sentence-encoder/1"
      ]
    },
    {
      "cell_type": "code",
      "metadata": {
        "id": "EHxvwfAJAyI0",
        "colab": {
          "base_uri": "https://localhost:8080/"
        },
        "cellView": "form",
        "outputId": "c12d8fe6-2a6b-4a2d-f28d-3ecf647751c7"
      },
      "source": [
        "import numpy as np # linear algebra\n",
        "import pandas as pd #\n",
        "import tensorflow_hub as hub\n",
        "import csv\n",
        "import pprint\n",
        "from tabulate import tabulate\n",
        "from collections import OrderedDict\n",
        "from operator import itemgetter\n",
        "text = 'The world is created ' #@param {type:\"string\", run:\"auto\"}\n",
        " \n",
        "def cosine_similarity(A, B):\n",
        "    '''\n",
        "    Input:\n",
        "        A: a numpy array which corresponds to a word vector\n",
        "        B: A numpy array which corresponds to a word vector\n",
        "    Output:\n",
        "        cos: numerical number representing the cosine similarity between A and B.\n",
        "    '''\n",
        "    # you have to set this variable to the true label.\n",
        "    cos = -10\n",
        "    dot = np.dot(A, B)\n",
        "    norma = np.linalg.norm(A)\n",
        "    normb = np.linalg.norm(B)\n",
        "    cos = dot / (norma * normb)\n",
        " \n",
        "    return cos\n",
        " \n",
        "if 'init' not in locals():\n",
        "  init = True\n",
        "  !curl https://raw.githubusercontent.com/EswarGitHub/BibleSearch/master/bible_data_set.csv -o bible_data_set.csv\n",
        "  reader = csv.reader(open('bible_data_set.csv', 'r'))\n",
        "  d = {}\n",
        "  for row in reader:\n",
        "    k,_,_,_,v = row\n",
        "    d[k] = v[:-2] #    \n",
        "  embed = hub.load(\"https://tfhub.dev/google/universal-sentence-encoder/4\")\n",
        "  embeddings = embed(list(d.values()))\n",
        "  versedict = {}\n",
        "  for i, verse in enumerate(d):\n",
        "    versedict[i] = verse\n",
        " \n",
        " \n",
        "embedded_text = embed([text])\n",
        "similarities = cosine_similarity(embeddings.numpy(), embedded_text.numpy().T).flatten()\n",
        "idx = list(np.argpartition(similarities, -5)[-5:])\n",
        "verses = [[versedict[i],list(d.values())[i][0:100], similarities[i]] for i in idx]\n",
        "sorted_verses = sorted(verses, key=itemgetter(2))\n",
        "print(tabulate(sorted_verses, headers=[\"Verse\",\"Text\", \"Cosine similarity\"]))"
      ],
      "execution_count": 2,
      "outputs": [
        {
          "output_type": "stream",
          "text": [
            "Verse          Text                                                                                                    Cosine similarity\n",
            "-------------  ----------------------------------------------------------------------------------------------------  -------------------\n",
            "Genesis 2:4    These are the generations of the heavens and of the earth when they were created, in the day that th           0.00203045\n",
            "Genesis 1:1    In the beginning God created the heaven and the earth.                                                         0.002063\n",
            "Proverbs 8:23  I was set up from everlasting, from the beginning, or ever the earth was.                                      0.00208032\n",
            "John 1:10      He was in the world, and the world was made by him, and the world knew him not.                                0.00218441\n",
            "John 9:5       As long as I am in the world, I am the light of the world.                                                     0.00220383\n"
          ],
          "name": "stdout"
        }
      ]
    },
    {
      "cell_type": "code",
      "metadata": {
        "id": "R2oOcB2xbqBM"
      },
      "source": [
        ""
      ],
      "execution_count": null,
      "outputs": []
    }
  ]
}