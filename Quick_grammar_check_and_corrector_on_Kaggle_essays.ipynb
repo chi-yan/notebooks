{
  "nbformat": 4,
  "nbformat_minor": 0,
  "metadata": {
    "colab": {
      "name": "Quick grammar check and corrector on Kaggle essays",
      "provenance": [],
      "collapsed_sections": [],
      "authorship_tag": "ABX9TyMKopNeEYKSHeSjvBtcK5lg",
      "include_colab_link": true
    },
    "kernelspec": {
      "name": "python3",
      "display_name": "Python 3"
    },
    "language_info": {
      "name": "python"
    },
    "accelerator": "GPU"
  },
  "cells": [
    {
      "cell_type": "markdown",
      "metadata": {
        "id": "view-in-github",
        "colab_type": "text"
      },
      "source": [
        "<a href=\"https://colab.research.google.com/github/chi-yan/notebooks/blob/master/Quick_grammar_check_and_corrector_on_Kaggle_essays.ipynb\" target=\"_parent\"><img src=\"https://colab.research.google.com/assets/colab-badge.svg\" alt=\"Open In Colab\"/></a>"
      ]
    },
    {
      "cell_type": "code",
      "metadata": {
        "colab": {
          "base_uri": "https://localhost:8080/",
          "height": 1000
        },
        "id": "j8wXcIbQniIx",
        "outputId": "69213116-9fe0-4964-f3b7-d0e6ce7f8463"
      },
      "source": [
        "!pip3 install pip==20.1.1 \n",
        "!pip3 install -U git+https://github.com/PrithivirajDamodaran/Gramformer.git\n",
        "!pip install nltk"
      ],
      "execution_count": 33,
      "outputs": [
        {
          "output_type": "stream",
          "name": "stdout",
          "text": [
            "Requirement already satisfied: pip==20.1.1 in /usr/local/lib/python3.7/dist-packages (20.1.1)\n",
            "Collecting git+https://github.com/PrithivirajDamodaran/Gramformer.git\n",
            "  Cloning https://github.com/PrithivirajDamodaran/Gramformer.git to /tmp/pip-req-build-e2dwgc2r\n",
            "  Running command git clone -q https://github.com/PrithivirajDamodaran/Gramformer.git /tmp/pip-req-build-e2dwgc2r\n",
            "Requirement already satisfied, skipping upgrade: transformers in /usr/local/lib/python3.7/dist-packages (from gramformer==1.0) (4.11.3)\n",
            "Requirement already satisfied, skipping upgrade: sentencepiece==0.1.95 in /usr/local/lib/python3.7/dist-packages (from gramformer==1.0) (0.1.95)\n",
            "Requirement already satisfied, skipping upgrade: python-Levenshtein==0.12.2 in /usr/local/lib/python3.7/dist-packages (from gramformer==1.0) (0.12.2)\n",
            "Requirement already satisfied, skipping upgrade: fuzzywuzzy==0.18.0 in /usr/local/lib/python3.7/dist-packages (from gramformer==1.0) (0.18.0)\n",
            "Requirement already satisfied, skipping upgrade: tokenizers==0.10.2 in /usr/local/lib/python3.7/dist-packages (from gramformer==1.0) (0.10.2)\n",
            "Requirement already satisfied, skipping upgrade: fsspec==2021.5.0 in /usr/local/lib/python3.7/dist-packages (from gramformer==1.0) (2021.5.0)\n",
            "Requirement already satisfied, skipping upgrade: lm-scorer==0.4.2 in /usr/local/lib/python3.7/dist-packages (from gramformer==1.0) (0.4.2)\n",
            "Requirement already satisfied, skipping upgrade: errant in /usr/local/lib/python3.7/dist-packages (from gramformer==1.0) (2.3.0)\n",
            "Requirement already satisfied, skipping upgrade: filelock in /usr/local/lib/python3.7/dist-packages (from transformers->gramformer==1.0) (3.3.0)\n",
            "Requirement already satisfied, skipping upgrade: pyyaml>=5.1 in /usr/local/lib/python3.7/dist-packages (from transformers->gramformer==1.0) (5.4.1)\n",
            "Requirement already satisfied, skipping upgrade: requests in /usr/local/lib/python3.7/dist-packages (from transformers->gramformer==1.0) (2.23.0)\n",
            "Requirement already satisfied, skipping upgrade: importlib-metadata; python_version < \"3.8\" in /usr/local/lib/python3.7/dist-packages (from transformers->gramformer==1.0) (4.8.1)\n",
            "Requirement already satisfied, skipping upgrade: sacremoses in /usr/local/lib/python3.7/dist-packages (from transformers->gramformer==1.0) (0.0.46)\n",
            "Requirement already satisfied, skipping upgrade: packaging>=20.0 in /usr/local/lib/python3.7/dist-packages (from transformers->gramformer==1.0) (21.0)\n",
            "Requirement already satisfied, skipping upgrade: tqdm>=4.27 in /usr/local/lib/python3.7/dist-packages (from transformers->gramformer==1.0) (4.62.3)\n",
            "Requirement already satisfied, skipping upgrade: huggingface-hub>=0.0.17 in /usr/local/lib/python3.7/dist-packages (from transformers->gramformer==1.0) (0.0.19)\n",
            "Requirement already satisfied, skipping upgrade: numpy>=1.17 in /usr/local/lib/python3.7/dist-packages (from transformers->gramformer==1.0) (1.19.5)\n",
            "Requirement already satisfied, skipping upgrade: regex!=2019.12.17 in /usr/local/lib/python3.7/dist-packages (from transformers->gramformer==1.0) (2019.12.20)\n",
            "Requirement already satisfied, skipping upgrade: setuptools in /usr/local/lib/python3.7/dist-packages (from python-Levenshtein==0.12.2->gramformer==1.0) (57.4.0)\n",
            "Requirement already satisfied, skipping upgrade: torch<2.0.0,>=1.4.0 in /usr/local/lib/python3.7/dist-packages (from lm-scorer==0.4.2->gramformer==1.0) (1.9.0+cu111)\n",
            "Requirement already satisfied, skipping upgrade: pip>=20.0.0 in /usr/local/lib/python3.7/dist-packages (from lm-scorer==0.4.2->gramformer==1.0) (20.1.1)\n",
            "Requirement already satisfied, skipping upgrade: spacy<3,>=2.2.0 in /usr/local/lib/python3.7/dist-packages (from errant->gramformer==1.0) (2.2.4)\n",
            "Requirement already satisfied, skipping upgrade: urllib3!=1.25.0,!=1.25.1,<1.26,>=1.21.1 in /usr/local/lib/python3.7/dist-packages (from requests->transformers->gramformer==1.0) (1.24.3)\n",
            "Requirement already satisfied, skipping upgrade: idna<3,>=2.5 in /usr/local/lib/python3.7/dist-packages (from requests->transformers->gramformer==1.0) (2.10)\n",
            "Requirement already satisfied, skipping upgrade: chardet<4,>=3.0.2 in /usr/local/lib/python3.7/dist-packages (from requests->transformers->gramformer==1.0) (3.0.4)\n",
            "Requirement already satisfied, skipping upgrade: certifi>=2017.4.17 in /usr/local/lib/python3.7/dist-packages (from requests->transformers->gramformer==1.0) (2021.5.30)\n",
            "Requirement already satisfied, skipping upgrade: zipp>=0.5 in /usr/local/lib/python3.7/dist-packages (from importlib-metadata; python_version < \"3.8\"->transformers->gramformer==1.0) (3.6.0)\n",
            "Requirement already satisfied, skipping upgrade: typing-extensions>=3.6.4; python_version < \"3.8\" in /usr/local/lib/python3.7/dist-packages (from importlib-metadata; python_version < \"3.8\"->transformers->gramformer==1.0) (3.7.4.3)\n",
            "Requirement already satisfied, skipping upgrade: joblib in /usr/local/lib/python3.7/dist-packages (from sacremoses->transformers->gramformer==1.0) (1.0.1)\n",
            "Requirement already satisfied, skipping upgrade: click in /usr/local/lib/python3.7/dist-packages (from sacremoses->transformers->gramformer==1.0) (7.1.2)\n",
            "Requirement already satisfied, skipping upgrade: six in /usr/local/lib/python3.7/dist-packages (from sacremoses->transformers->gramformer==1.0) (1.15.0)\n",
            "Requirement already satisfied, skipping upgrade: pyparsing>=2.0.2 in /usr/local/lib/python3.7/dist-packages (from packaging>=20.0->transformers->gramformer==1.0) (2.4.7)\n",
            "Requirement already satisfied, skipping upgrade: cymem<2.1.0,>=2.0.2 in /usr/local/lib/python3.7/dist-packages (from spacy<3,>=2.2.0->errant->gramformer==1.0) (2.0.5)\n",
            "Requirement already satisfied, skipping upgrade: thinc==7.4.0 in /usr/local/lib/python3.7/dist-packages (from spacy<3,>=2.2.0->errant->gramformer==1.0) (7.4.0)\n",
            "Requirement already satisfied, skipping upgrade: catalogue<1.1.0,>=0.0.7 in /usr/local/lib/python3.7/dist-packages (from spacy<3,>=2.2.0->errant->gramformer==1.0) (1.0.0)\n",
            "Requirement already satisfied, skipping upgrade: srsly<1.1.0,>=1.0.2 in /usr/local/lib/python3.7/dist-packages (from spacy<3,>=2.2.0->errant->gramformer==1.0) (1.0.5)\n",
            "Requirement already satisfied, skipping upgrade: wasabi<1.1.0,>=0.4.0 in /usr/local/lib/python3.7/dist-packages (from spacy<3,>=2.2.0->errant->gramformer==1.0) (0.8.2)\n",
            "Requirement already satisfied, skipping upgrade: murmurhash<1.1.0,>=0.28.0 in /usr/local/lib/python3.7/dist-packages (from spacy<3,>=2.2.0->errant->gramformer==1.0) (1.0.5)\n",
            "Requirement already satisfied, skipping upgrade: plac<1.2.0,>=0.9.6 in /usr/local/lib/python3.7/dist-packages (from spacy<3,>=2.2.0->errant->gramformer==1.0) (1.1.3)\n",
            "Requirement already satisfied, skipping upgrade: preshed<3.1.0,>=3.0.2 in /usr/local/lib/python3.7/dist-packages (from spacy<3,>=2.2.0->errant->gramformer==1.0) (3.0.5)\n",
            "Requirement already satisfied, skipping upgrade: blis<0.5.0,>=0.4.0 in /usr/local/lib/python3.7/dist-packages (from spacy<3,>=2.2.0->errant->gramformer==1.0) (0.4.1)\n",
            "Building wheels for collected packages: gramformer\n",
            "  Building wheel for gramformer (setup.py) ... \u001b[?25l\u001b[?25hdone\n",
            "  Created wheel for gramformer: filename=gramformer-1.0-py3-none-any.whl size=4501 sha256=7ce2b28daba405faab596f9e29f0cad30cdc691f8f6697768e57543c8ae79017\n",
            "  Stored in directory: /tmp/pip-ephem-wheel-cache-uhmjsiws/wheels/c1/f6/04/a7ceda8a8c1d494a3523957d61eb6dfe428568b1af0b9d508c\n",
            "Successfully built gramformer\n",
            "Installing collected packages: gramformer\n",
            "  Attempting uninstall: gramformer\n",
            "    Found existing installation: gramformer 1.0\n",
            "    Uninstalling gramformer-1.0:\n",
            "      Successfully uninstalled gramformer-1.0\n",
            "Successfully installed gramformer-1.0\n"
          ]
        },
        {
          "output_type": "display_data",
          "data": {
            "application/vnd.colab-display-data+json": {
              "pip_warning": {
                "packages": [
                  "gramformer"
                ]
              }
            }
          },
          "metadata": {}
        },
        {
          "output_type": "stream",
          "name": "stdout",
          "text": [
            "Requirement already satisfied: nltk in /usr/local/lib/python3.7/dist-packages (3.2.5)\n",
            "Requirement already satisfied: six in /usr/local/lib/python3.7/dist-packages (from nltk) (1.15.0)\n"
          ]
        }
      ]
    },
    {
      "cell_type": "code",
      "metadata": {
        "colab": {
          "base_uri": "https://localhost:8080/"
        },
        "id": "46wgDn2AnwSl",
        "outputId": "91e89228-9ba7-4252-e958-7baee2f0161b"
      },
      "source": [
        "!curl https://raw.githubusercontent.com/chi-yan/notebooks/master/test_set.csv > test_set.csv"
      ],
      "execution_count": 34,
      "outputs": [
        {
          "output_type": "stream",
          "name": "stdout",
          "text": [
            "  % Total    % Received % Xferd  Average Speed   Time    Time     Time  Current\n",
            "                                 Dload  Upload   Total   Spent    Left  Speed\n",
            "\r  0     0    0     0    0     0      0      0 --:--:-- --:--:-- --:--:--     0\r  4 5046k    4  207k    0     0   816k      0  0:00:06 --:--:--  0:00:06  813k\r100 5046k  100 5046k    0     0  17.3M      0 --:--:-- --:--:-- --:--:-- 17.2M\n"
          ]
        }
      ]
    },
    {
      "cell_type": "code",
      "metadata": {
        "colab": {
          "base_uri": "https://localhost:8080/"
        },
        "id": "SzUKrSKR9u5s",
        "outputId": "45d1ab16-2524-4dc9-a788-a0d07c5da477"
      },
      "source": [
        "!ls"
      ],
      "execution_count": 35,
      "outputs": [
        {
          "output_type": "stream",
          "name": "stdout",
          "text": [
            "sample_data  test_set  test_set.csv\n"
          ]
        }
      ]
    },
    {
      "cell_type": "code",
      "metadata": {
        "id": "oSqBQxfn9yQ8"
      },
      "source": [
        "import pandas as pd\n",
        "df = pd.read_csv(\"test_set.csv\",sep='\\t',engine='python')\n"
      ],
      "execution_count": 37,
      "outputs": []
    },
    {
      "cell_type": "code",
      "metadata": {
        "id": "xsA2TYy8-BMM"
      },
      "source": [
        "essays = list(df['essay'])"
      ],
      "execution_count": 38,
      "outputs": []
    },
    {
      "cell_type": "code",
      "metadata": {
        "colab": {
          "base_uri": "https://localhost:8080/",
          "height": 103
        },
        "id": "YspP0NCR-fmM",
        "outputId": "4602932f-c02f-4f04-d67f-1479941fdbbe"
      },
      "source": [
        "essays[2]"
      ],
      "execution_count": 39,
      "outputs": [
        {
          "output_type": "execute_result",
          "data": {
            "application/vnd.google.colaboratory.intrinsic+json": {
              "type": "string"
            },
            "text/plain": [
              "\"Dear to whom it @MONTH1 concern, Computers aren't the reason why people don't want to excersise or veiw the nature. Its the people computers are their their to help peopl can knoledge but people take advantage of that. People make their own in life and they can control eather they want to do excersise or not. They, always have the on other objects for what they suposably didn't do. In a couple people can go anywhere and reaseach everything. Poeple who stay at a computer @NUM1 hours a day are making discison. Its not like a computer tell you not to do something people beleive that technology as a person into doing things. Well their wrong. Its the person who is letting technology take control. Because if they wanted to they could possibly stop and go out side for a walk or run. What they don't know is they are the one. So now you understand what im trying to say. People other things over ther own actions.\""
            ]
          },
          "metadata": {},
          "execution_count": 39
        }
      ]
    },
    {
      "cell_type": "code",
      "metadata": {
        "colab": {
          "base_uri": "https://localhost:8080/"
        },
        "id": "mf32_5NcAS16",
        "outputId": "f96e0489-6ee4-45b8-9b83-c4f736987539"
      },
      "source": [
        "ESSAY_NUMBER =    43#@param {type:\"number\"}   # try 0 or 7 or 22 or 43\n",
        "\n",
        "import nltk \n",
        "nltk.download('punkt')\n",
        "text = essays[ESSAY_NUMBER]\n",
        "\n",
        "sentences = nltk.tokenize.sent_tokenize(text) \n",
        "sentences"
      ],
      "execution_count": 59,
      "outputs": [
        {
          "output_type": "stream",
          "name": "stdout",
          "text": [
            "[nltk_data] Downloading package punkt to /root/nltk_data...\n",
            "[nltk_data]   Package punkt is already up-to-date!\n"
          ]
        },
        {
          "output_type": "execute_result",
          "data": {
            "text/plain": [
              "['Dear @CAPS1, Computers are a part of our everyday lives in this centry.',\n",
              " 'Everywhere you go technology is always being used.',\n",
              " 'This is why I strongly bealive that computers have a positive effect on us.',\n",
              " 'They impact so many useful things.',\n",
              " 'First computer help us to do things faster and easyer.',\n",
              " 'Sencond they are the new social networks that help comunicating online.',\n",
              " 'Lastly they help organize files like in offices.',\n",
              " 'These are the reasons I bealive computers have a big positive effect on society.',\n",
              " 'My first reason was computers help us do things a lot faster.',\n",
              " 'For example, doing research you just type in the topic and in seconds you have thousands of webpages to look from.',\n",
              " 'Way faster then going from book to book looking for the information you need.',\n",
              " 'Also shopping never got easyier with online shopping.',\n",
              " 'Its fast and easy insted of having to go through the hosel of driving far to a store when you can do it instently.',\n",
              " 'People have very busy lives and computers just make it a whole lot easyer.',\n",
              " 'My second reason is computers are the new social network and comunication all over the world!',\n",
              " 'Everyone wants to keep up with their friends, but we cant always have the time to see there.',\n",
              " 'So online chatting helped us fix that.',\n",
              " 'Or when your on the phone you can only have a one way conversation... Boring.',\n",
              " 'but on computers wow you can talk up to as many people that you want simotanisly.',\n",
              " 'Alot for big companys that work with other countries computers helped them alot because they can talk about things without having to always use the companys money to fly out over there.',\n",
              " 'Saving Society time and money!',\n",
              " 'Computers come with webcams so its like your comunicating in person even if they live millions of miles away.',\n",
              " 'This is why computers are help in the social society.',\n",
              " 'The last reason why computer are a positive impact on todays society is because they are the best storing machines ever.',\n",
              " 'Alot of offices have alot of papers and they can always get easly lost or misplaced.',\n",
              " 'however, with computers its a fast way to store the information offices need.',\n",
              " 'Just think about it going to a office with no computers it would take forever to find the papers and information beacause they would have to look from files to files.',\n",
              " 'This is why companys store all their information on the computer.',\n",
              " \"It's just simply fast and easy.\",\n",
              " 'These are the three reasons why I strongly bealive that computers are a possitive effect on society.',\n",
              " 'First you can do all your reaseach fast and online, shopping never been easyer.',\n",
              " 'Secondly, online comunications are fast and easy to keep in touch.',\n",
              " 'And lastly it helps offices organize their stuff better.',\n",
              " 'As a result of this you can agree with me that computers are very possitive and they make our lives so much easyier.',\n",
              " 'From a local newspaper reader.']"
            ]
          },
          "metadata": {},
          "execution_count": 59
        }
      ]
    },
    {
      "cell_type": "code",
      "metadata": {
        "colab": {
          "base_uri": "https://localhost:8080/"
        },
        "id": "YKbZ3HXfAaka",
        "outputId": "26460371-902d-4698-816d-82d273975514"
      },
      "source": [
        "from gramformer import Gramformer\n",
        "CANDIDATES = 3 #@param {type:\"number\"}\n",
        "\n",
        "gf = Gramformer(models = 1, use_gpu=True) # 1=corrector, 2=detector\n",
        "for sentence in sentences:\n",
        "    corrected_sentences = gf.correct(sentence, max_candidates = CANDIDATES)   \n",
        "    print(\"[Input] \", sentence)\n",
        "    for count,corrected_sentence in enumerate(corrected_sentences):\n",
        "      print(\"[Edit \" + str(count+1) + \"]\", gf.get_edits(sentence, corrected_sentence[0]))\n",
        "      print(corrected_sentence[0])\n",
        "    print(\"-\" *100)"
      ],
      "execution_count": 60,
      "outputs": [
        {
          "output_type": "stream",
          "name": "stdout",
          "text": [
            "[Gramformer] Grammar error correct/highlight model loaded..\n",
            "[Input]  Dear @CAPS1, Computers are a part of our everyday lives in this centry.\n",
            "[Edit 1] [('NOUN', 'centry.', 12, 13, 'country.', 12, 13)]\n",
            "Dear @CAPS1, Computers are a part of our everyday lives in this country.\n",
            "[Edit 2] [('NOUN', 'centry.', 12, 13, 'nation.', 12, 13)]\n",
            "Dear @CAPS1, Computers are a part of our everyday lives in this nation.\n",
            "[Edit 3] [('NOUN', 'centry.', 12, 13, 'centery.', 12, 13)]\n",
            "Dear @CAPS1, Computers are a part of our everyday lives in this centery.\n",
            "----------------------------------------------------------------------------------------------------\n",
            "[Input]  Everywhere you go technology is always being used.\n",
            "[Edit 1] [('OTHER', 'go', 2, 3, 'go,', 2, 3)]\n",
            "Everywhere you go, technology is always being used.\n",
            "----------------------------------------------------------------------------------------------------\n",
            "[Input]  This is why I strongly bealive that computers have a positive effect on us.\n",
            "[Edit 1] [('SPELL', 'bealive', 5, 6, 'believe', 5, 6)]\n",
            "This is why I strongly believe that computers have a positive effect on us.\n",
            "----------------------------------------------------------------------------------------------------\n",
            "[Input]  They impact so many useful things.\n",
            "[Edit 1] [('ADJ', 'useful', 4, 5, '', 4, 4)]\n",
            "They impact so many things.\n",
            "[Edit 2] []\n",
            "They impact so many useful things.\n",
            "----------------------------------------------------------------------------------------------------\n",
            "[Input]  First computer help us to do things faster and easyer.\n",
            "[Edit 1] [('ADJ', 'First computer', 0, 2, 'Computer', 0, 1), ('VERB:FORM', 'to', 4, 5, '', 3, 3), ('OTHER', 'easyer.', 9, 10, 'easier.', 7, 8)]\n",
            "Computer help us do things faster and easier.\n",
            "[Edit 2] [('OTHER', 'First', 0, 1, 'Your', 0, 1), ('VERB:TENSE', '', 2, 2, 'can', 2, 3), ('VERB:FORM', 'to', 4, 5, '', 5, 5), ('OTHER', 'easyer.', 9, 10, 'easier.', 9, 10)]\n",
            "Your computer can help us do things faster and easier.\n",
            "[Edit 3] [('VERB:SVA', 'help', 2, 3, 'helps', 2, 3), ('OTHER', 'easyer.', 9, 10, 'easier.', 9, 10)]\n",
            "First computer helps us to do things faster and easier.\n",
            "----------------------------------------------------------------------------------------------------\n",
            "[Input]  Sencond they are the new social networks that help comunicating online.\n",
            "[Edit 1] [('ADJ', 'Sencond', 0, 1, '', 0, 0), ('PRON', 'they', 1, 2, 'These', 0, 1), ('PRON', '', 9, 9, 'you', 8, 9), ('SPELL', 'comunicating', 9, 10, 'communicate', 9, 10)]\n",
            "These are the new social networks that help you communicate online.\n",
            "[Edit 2] [('ADJ', 'Sencond they', 0, 2, 'They', 0, 1), ('VERB', 'comunicating', 9, 10, 'connect', 8, 9)]\n",
            "They are the new social networks that help connect online.\n",
            "[Edit 3] [('OTHER', 'Sencond they', 0, 2, 'Sense', 0, 1), ('NOUN', '', 9, 9, 'everyone', 8, 9), ('SPELL', 'comunicating', 9, 10, 'communicate', 9, 10)]\n",
            "Sense are the new social networks that help everyone communicate online.\n",
            "----------------------------------------------------------------------------------------------------\n",
            "[Input]  Lastly they help organize files like in offices.\n",
            "[Edit 1] [('OTHER', 'Lastly', 0, 1, 'Lastly,', 0, 1), ('PREP', 'like', 5, 6, '', 5, 5), ('DET', '', 7, 7, 'the', 6, 7), ('NOUN', 'offices.', 7, 8, 'office.', 7, 8)]\n",
            "Lastly, they help organize files in the office.\n",
            "[Edit 2] [('PREP', 'like', 5, 6, '', 5, 5)]\n",
            "Lastly they help organize files in offices.\n",
            "[Edit 3] [('OTHER', 'Lastly', 0, 1, 'Finally,', 0, 1)]\n",
            "Finally, they help organize files like in offices.\n",
            "----------------------------------------------------------------------------------------------------\n",
            "[Input]  These are the reasons I bealive computers have a big positive effect on society.\n",
            "[Edit 1] [('SPELL', 'bealive', 5, 6, 'believe', 5, 6), ('ADJ', 'big', 9, 10, 'huge', 9, 10)]\n",
            "These are the reasons I believe computers have a huge positive effect on society.\n",
            "[Edit 2] [('SPELL', 'bealive', 5, 6, 'believe', 5, 6)]\n",
            "These are the reasons I believe computers have a big positive effect on society.\n",
            "----------------------------------------------------------------------------------------------------\n",
            "[Input]  My first reason was computers help us do things a lot faster.\n",
            "[Edit 1] [('PREP', '', 4, 4, 'that', 4, 5), ('VERB:TENSE', 'help', 5, 6, 'helped', 6, 7)]\n",
            "My first reason was that computers helped us do things a lot faster.\n",
            "[Edit 2] []\n",
            "My first reason was computers help us do things a lot faster.\n",
            "[Edit 3] [('VERB:FORM', 'help', 5, 6, 'helping', 5, 6)]\n",
            "My first reason was computers helping us do things a lot faster.\n",
            "----------------------------------------------------------------------------------------------------\n",
            "[Input]  For example, doing research you just type in the topic and in seconds you have thousands of webpages to look from.\n",
            "[Edit 1] [('ADV', '', 2, 2, 'when', 2, 3), ('OTHER', 'research', 3, 4, 'research,', 4, 5), ('OTHER', 'from.', 20, 21, 'at.', 21, 22)]\n",
            "For example, when doing research, you just type in the topic and in seconds you have thousands of webpages to look at.\n",
            "[Edit 2] [('ADV', '', 2, 2, 'when', 2, 3), ('OTHER', 'from.', 20, 21, 'at.', 21, 22)]\n",
            "For example, when doing research you just type in the topic and in seconds you have thousands of webpages to look at.\n",
            "[Edit 3] [('OTHER', 'from.', 20, 21, 'at.', 20, 21)]\n",
            "For example, doing research you just type in the topic and in seconds you have thousands of webpages to look at.\n",
            "----------------------------------------------------------------------------------------------------\n",
            "[Input]  Way faster then going from book to book looking for the information you need.\n",
            "[Edit 1] [('SPELL', 'then', 2, 3, 'than', 2, 3)]\n",
            "Way faster than going from book to book looking for the information you need.\n",
            "[Edit 2] []\n",
            "Way faster then going from book to book looking for the information you need.\n",
            "----------------------------------------------------------------------------------------------------\n",
            "[Input]  Also shopping never got easyier with online shopping.\n",
            "[Edit 1] [('ADV', 'Also shopping', 0, 2, 'Shopping', 0, 1), ('SPELL', 'easyier', 4, 5, 'easier', 3, 4)]\n",
            "Shopping never got easier with online shopping.\n",
            "----------------------------------------------------------------------------------------------------\n",
            "[Input]  Its fast and easy insted of having to go through the hosel of driving far to a store when you can do it instently.\n",
            "[Edit 1] [('OTHER', 'insted of', 4, 6, 'to stop', 4, 6), ('NOUN', 'hosel', 11, 12, 'hassle', 11, 12), ('ADV', 'far', 14, 15, '', 14, 14), ('OTHER', 'instently.', 23, 24, 'quickly.', 22, 23)]\n",
            "Its fast and easy to stop having to go through the hassle of driving to a store when you can do it quickly.\n",
            "[Edit 2] [('OTHER', 'insted', 4, 5, 'to forget', 4, 6), ('PREP', 'of', 5, 6, 'about', 6, 7), ('SPELL', 'hosel', 11, 12, 'hose', 12, 13), ('OTHER', 'instently.', 23, 24, 'quickly.', 24, 25)]\n",
            "Its fast and easy to forget about having to go through the hose of driving far to a store when you can do it quickly.\n",
            "[Edit 3] [('OTHER', 'Its', 0, 1, 'It’s', 0, 1), ('OTHER', 'fast and', 1, 3, '', 1, 1), ('OTHER', 'insted', 4, 5, 'to forget', 2, 4), ('PREP', 'of', 5, 6, 'about', 4, 5), ('OTHER', 'instently.', 23, 24, 'quickly and easily.', 22, 25)]\n",
            "It’s easy to forget about having to go through the hosel of driving far to a store when you can do it quickly and easily.\n",
            "----------------------------------------------------------------------------------------------------\n",
            "[Input]  People have very busy lives and computers just make it a whole lot easyer.\n",
            "[Edit 1] [('ADV', 'easyer.', 13, 14, 'easier.', 13, 14)]\n",
            "People have very busy lives and computers just make it a whole lot easier.\n",
            "----------------------------------------------------------------------------------------------------\n",
            "[Input]  My second reason is computers are the new social network and comunication all over the world!\n",
            "[Edit 1] [('PREP', '', 4, 4, 'that', 4, 5), ('NOUN:NUM', 'network', 9, 10, 'networks', 10, 11), ('SPELL', 'comunication', 11, 12, 'communication', 12, 13)]\n",
            "My second reason is that computers are the new social networks and communication all over the world!\n",
            "[Edit 2] [('PREP', '', 4, 4, 'that', 4, 5), ('NOUN:NUM', 'network', 9, 10, 'networks', 10, 11), ('SPELL', 'comunication', 11, 12, 'communications', 12, 13)]\n",
            "My second reason is that computers are the new social networks and communications all over the world!\n",
            "[Edit 3] [('NOUN:NUM', 'network', 9, 10, 'networks', 9, 10), ('SPELL', 'comunication', 11, 12, 'communication', 11, 12)]\n",
            "My second reason is computers are the new social networks and communication all over the world!\n",
            "----------------------------------------------------------------------------------------------------\n",
            "[Input]  Everyone wants to keep up with their friends, but we cant always have the time to see there.\n",
            "[Edit 1] [('OTHER', 'cant', 10, 11, \"can't\", 10, 11), ('VERB', '', 16, 16, 'go', 16, 17), ('OTHER', 'there.', 17, 18, 'them.', 18, 19)]\n",
            "Everyone wants to keep up with their friends, but we can't always have the time to go see them.\n",
            "[Edit 2] [('OTHER', 'there.', 17, 18, 'them.', 17, 18)]\n",
            "Everyone wants to keep up with their friends, but we cant always have the time to see them.\n",
            "[Edit 3] [('OTHER', 'cant', 10, 11, 'can’t', 10, 11), ('OTHER', 'see there.', 16, 18, 'do so.', 16, 18)]\n",
            "Everyone wants to keep up with their friends, but we can’t always have the time to do so.\n",
            "----------------------------------------------------------------------------------------------------\n",
            "[Input]  So online chatting helped us fix that.\n",
            "[Edit 1] [('ADV', 'So online', 0, 2, 'Online', 0, 1)]\n",
            "Online chatting helped us fix that.\n",
            "[Edit 2] [('MORPH', 'chatting', 2, 3, 'chat', 2, 3)]\n",
            "So online chat helped us fix that.\n",
            "[Edit 3] []\n",
            "So online chatting helped us fix that.\n",
            "----------------------------------------------------------------------------------------------------\n",
            "[Input]  Or when your on the phone you can only have a one way conversation... Boring.\n",
            "[Edit 1] []\n",
            "Or when your on the phone you can only have a one way conversation... Boring.\n",
            "[Edit 2] [('NOUN', 'phone', 5, 6, 'phone,', 5, 6), ('DET', 'a', 10, 11, '', 10, 10), ('PUNCT', 'conversation...', 13, 14, 'conversations...', 12, 13)]\n",
            "Or when your on the phone, you can only have one way conversations... Boring.\n",
            "----------------------------------------------------------------------------------------------------\n",
            "[Input]  but on computers wow you can talk up to as many people that you want simotanisly.\n",
            "[Edit 1] [('OTHER', 'wow', 3, 4, '', 3, 3), ('PREP', 'up', 7, 8, '', 6, 6), ('PREP', 'that', 12, 13, 'as', 10, 11), ('OTHER', 'simotanisly.', 15, 16, 'simultaneously.', 13, 14)]\n",
            "but on computers you can talk to as many people as you want simultaneously.\n",
            "[Edit 2] [('OTHER', 'wow', 3, 4, '', 3, 3), ('PREP', 'up', 7, 8, '', 6, 6), ('OTHER', 'simotanisly.', 15, 16, 'simultaneously.', 13, 14)]\n",
            "but on computers you can talk to as many people that you want simultaneously.\n",
            "[Edit 3] [('DET', '', 2, 2, 'a', 2, 3), ('NOUN:NUM', 'computers', 2, 3, 'computer', 3, 4), ('OTHER', 'wow', 3, 4, '', 4, 4), ('OTHER', 'simotanisly.', 15, 16, 'simultaneously.', 15, 16)]\n",
            "but on a computer you can talk up to as many people that you want simultaneously.\n",
            "----------------------------------------------------------------------------------------------------\n",
            "[Input]  Alot for big companys that work with other countries computers helped them alot because they can talk about things without having to always use the companys money to fly out over there.\n",
            "[Edit 1] [('ORTH', 'Alot', 0, 1, 'A lot', 0, 2), ('PREP', 'for', 1, 2, 'of', 2, 3), ('OTHER', 'big', 2, 3, 'the', 3, 4), ('SPELL', 'companys', 3, 4, 'companies', 4, 5), ('DET', '', 9, 9, 'their', 10, 11), ('ORTH', 'alot', 12, 13, 'a lot', 14, 16)]\n",
            "A lot of the companies that work with other countries their computers helped them a lot because they can talk about things without having to always use the companys money to fly out over there.\n",
            "[Edit 2] [('OTHER', 'Alot', 0, 1, 'Lots of', 0, 2), ('SPELL', 'companys', 3, 4, 'companies', 4, 5), ('NOUN', 'countries', 8, 9, 'countries,', 9, 10), ('VERB:TENSE', 'helped', 10, 11, 'help', 11, 12), ('SPELL', 'companys', 25, 26, \"company's\", 26, 27)]\n",
            "Lots of for big companies that work with other countries, computers help them alot because they can talk about things without having to always use the company's money to fly out over there.\n",
            "[Edit 3] [('ORTH', 'Alot', 0, 1, 'A lot', 0, 2), ('SPELL', 'companys', 3, 4, 'companies', 4, 5), ('PUNCT', '', 9, 9, '–', 10, 11), ('ORTH', 'alot', 12, 13, 'a lot', 14, 16)]\n",
            "A lot for big companies that work with other countries – computers helped them a lot because they can talk about things without having to always use the companys money to fly out over there.\n",
            "----------------------------------------------------------------------------------------------------\n",
            "[Input]  Saving Society time and money!\n",
            "[Edit 1] []\n",
            "Saving Society time and money!\n",
            "----------------------------------------------------------------------------------------------------\n",
            "[Input]  Computers come with webcams so its like your comunicating in person even if they live millions of miles away.\n",
            "[Edit 1] [('DET', 'your', 7, 8, '', 7, 7), ('SPELL', 'comunicating', 8, 9, 'communicating', 7, 8)]\n",
            "Computers come with webcams so its like communicating in person even if they live millions of miles away.\n",
            "[Edit 2] [('OTHER', 'webcams', 3, 4, 'webcams,', 3, 4), ('DET', 'your', 7, 8, '', 7, 7), ('SPELL', 'comunicating', 8, 9, 'communicating', 7, 8), ('NOUN', 'person', 10, 11, 'person,', 9, 10)]\n",
            "Computers come with webcams, so its like communicating in person, even if they live millions of miles away.\n",
            "[Edit 3] [('OTHER', 'webcams', 3, 4, 'webcams,', 3, 4), ('DET', 'your', 7, 8, '', 7, 7), ('SPELL', 'comunicating', 8, 9, 'communication', 7, 8), ('PRON', 'they', 13, 14, 'you', 12, 13)]\n",
            "Computers come with webcams, so its like communication in person even if you live millions of miles away.\n",
            "----------------------------------------------------------------------------------------------------\n",
            "[Input]  This is why computers are help in the social society.\n",
            "[Edit 1] [('OTHER', 'help', 5, 6, 'so useful', 5, 7)]\n",
            "This is why computers are so useful in the social society.\n",
            "[Edit 2] [('VERB:FORM', 'help', 5, 6, 'helping', 5, 6), ('NOUN', 'society.', 9, 10, 'sector.', 9, 10)]\n",
            "This is why computers are helping in the social sector.\n",
            "[Edit 3] [('OTHER', 'help in', 5, 7, 'helping', 5, 6)]\n",
            "This is why computers are helping the social society.\n",
            "----------------------------------------------------------------------------------------------------\n",
            "[Input]  The last reason why computer are a positive impact on todays society is because they are the best storing machines ever.\n",
            "[Edit 1] [('NOUN:NUM', 'computer', 4, 5, 'computers', 4, 5), ('VERB', 'are', 5, 6, 'have', 5, 6), ('MORPH', 'storing', 18, 19, 'storage', 18, 19)]\n",
            "The last reason why computers have a positive impact on todays society is because they are the best storage machines ever.\n",
            "[Edit 2] [('NOUN:NUM', 'computer', 4, 5, 'computers', 4, 5), ('VERB', 'are', 5, 6, 'have had', 5, 7), ('PREP', 'on', 9, 10, 'in', 10, 11), ('MORPH', 'storing', 18, 19, 'storage', 19, 20)]\n",
            "The last reason why computers have had a positive impact in todays society is because they are the best storage machines ever.\n",
            "[Edit 3] [('NOUN:NUM', 'computer', 4, 5, 'computers', 4, 5), ('VERB', 'are', 5, 6, 'have', 5, 6), ('PREP', 'on', 9, 10, 'in', 9, 10)]\n",
            "The last reason why computers have a positive impact in todays society is because they are the best storing machines ever.\n",
            "----------------------------------------------------------------------------------------------------\n",
            "[Input]  Alot of offices have alot of papers and they can always get easly lost or misplaced.\n",
            "[Edit 1] [('ORTH', 'Alot', 0, 1, 'A lot', 0, 2), ('ORTH', 'alot', 4, 5, 'a lot', 5, 7), ('SPELL', 'easly', 12, 13, 'easily', 14, 15)]\n",
            "A lot of offices have a lot of papers and they can always get easily lost or misplaced.\n",
            "[Edit 2] [('ORTH', 'Alot', 0, 1, 'A lot', 0, 2), ('ORTH', 'alot', 4, 5, 'a lot', 5, 7)]\n",
            "A lot of offices have a lot of papers and they can always get easly lost or misplaced.\n",
            "----------------------------------------------------------------------------------------------------\n",
            "[Input]  however, with computers its a fast way to store the information offices need.\n",
            "[Edit 1] [('ORTH', 'however,', 0, 1, 'However,', 0, 1)]\n",
            "However, with computers its a fast way to store the information offices need.\n",
            "[Edit 2] []\n",
            "however, with computers its a fast way to store the information offices need.\n",
            "[Edit 3] [('OTHER', 'its', 3, 4, 'it’s', 3, 4)]\n",
            "however, with computers it’s a fast way to store the information offices need.\n",
            "----------------------------------------------------------------------------------------------------\n",
            "[Input]  Just think about it going to a office with no computers it would take forever to find the papers and information beacause they would have to look from files to files.\n",
            "[Edit 1] [('PRON', 'it', 3, 4, '', 3, 3), ('DET', 'a', 6, 7, 'an', 5, 6), ('NOUN', 'computers', 10, 11, 'computers;', 9, 10), ('SPELL', 'beacause', 21, 22, 'because', 20, 21), ('VERB', 'look', 26, 27, 'search', 25, 26)]\n",
            "Just think about going to an office with no computers; it would take forever to find the papers and information because they would have to search from files to files.\n",
            "[Edit 2] [('DET', 'a', 6, 7, 'an', 6, 7), ('OTHER', 'computers it', 10, 12, 'computers: It', 10, 12), ('SPELL', 'beacause', 21, 22, 'because', 21, 22)]\n",
            "Just think about it going to an office with no computers: It would take forever to find the papers and information because they would have to look from files to files.\n",
            "[Edit 3] [('DET', 'a', 6, 7, 'an', 6, 7), ('NOUN', 'computers', 10, 11, 'computers.', 10, 11), ('SPELL', 'beacause', 21, 22, 'because', 21, 22)]\n",
            "Just think about it going to an office with no computers. it would take forever to find the papers and information because they would have to look from files to files.\n",
            "----------------------------------------------------------------------------------------------------\n",
            "[Input]  This is why companys store all their information on the computer.\n",
            "[Edit 1] [('SPELL', 'companys', 3, 4, 'companies', 3, 4)]\n",
            "This is why companies store all their information on the computer.\n",
            "----------------------------------------------------------------------------------------------------\n",
            "[Input]  It's just simply fast and easy.\n",
            "[Edit 1] [('ADV', 'just', 1, 2, '', 1, 1)]\n",
            "It's simply fast and easy.\n",
            "[Edit 2] [('ADV', 'just', 1, 2, '', 1, 1), ('OTHER', 'easy.', 5, 6, 'easy', 4, 5), ('VERB', '', 6, 6, 'to use.', 5, 7)]\n",
            "It's simply fast and easy to use.\n",
            "[Edit 3] []\n",
            "It's just simply fast and easy.\n",
            "----------------------------------------------------------------------------------------------------\n",
            "[Input]  These are the three reasons why I strongly bealive that computers are a possitive effect on society.\n",
            "[Edit 1] [('SPELL', 'bealive', 8, 9, 'believe', 8, 9), ('VERB', 'are', 11, 12, 'have', 11, 12), ('SPELL', 'possitive', 13, 14, 'positive', 13, 14)]\n",
            "These are the three reasons why I strongly believe that computers have a positive effect on society.\n",
            "[Edit 2] [('VERB', '', 7, 7, 'believe', 7, 8), ('VERB', 'bealive', 8, 9, '', 9, 9), ('VERB', 'are', 11, 12, 'have', 11, 12), ('SPELL', 'possitive', 13, 14, 'positive', 13, 14), ('NOUN', 'effect', 14, 15, 'impact', 14, 15)]\n",
            "These are the three reasons why I believe strongly that computers have a positive impact on society.\n",
            "[Edit 3] [('SPELL', 'bealive', 8, 9, 'believe', 8, 9), ('VERB', 'are', 11, 12, 'will have', 11, 13), ('SPELL', 'possitive', 13, 14, 'positive', 14, 15)]\n",
            "These are the three reasons why I strongly believe that computers will have a positive effect on society.\n",
            "----------------------------------------------------------------------------------------------------\n",
            "[Input]  First you can do all your reaseach fast and online, shopping never been easyer.\n",
            "[Edit 1] [('OTHER', 'First', 0, 1, 'First,', 0, 1), ('SPELL', 'reaseach', 6, 7, 'research', 6, 7), ('VERB:TENSE', '', 11, 11, 'has', 11, 12), ('ADV', 'easyer.', 13, 14, 'easier.', 14, 15)]\n",
            "First, you can do all your research fast and online, shopping has never been easier.\n",
            "----------------------------------------------------------------------------------------------------\n",
            "[Input]  Secondly, online comunications are fast and easy to keep in touch.\n",
            "[Edit 1] [('SPELL', 'comunications', 2, 3, 'communication', 2, 3), ('VERB:SVA', 'are', 3, 4, 'is', 3, 4)]\n",
            "Secondly, online communication is fast and easy to keep in touch.\n",
            "[Edit 2] [('SPELL', 'comunications', 2, 3, 'communication', 2, 3), ('VERB:SVA', 'are', 3, 4, 'is', 3, 4), ('ADJ', 'fast', 4, 5, 'quick', 4, 5)]\n",
            "Secondly, online communication is quick and easy to keep in touch.\n",
            "----------------------------------------------------------------------------------------------------\n",
            "[Input]  And lastly it helps offices organize their stuff better.\n",
            "[Edit 1] [('OTHER', 'lastly', 1, 2, 'lastly,', 1, 2)]\n",
            "And lastly, it helps offices organize their stuff better.\n",
            "[Edit 2] []\n",
            "And lastly it helps offices organize their stuff better.\n",
            "----------------------------------------------------------------------------------------------------\n",
            "[Input]  As a result of this you can agree with me that computers are very possitive and they make our lives so much easyier.\n",
            "[Edit 1] [('OTHER', 'this', 4, 5, 'this,', 4, 5), ('ADJ', 'possitive', 14, 15, 'practical', 14, 15), ('OTHER', 'easyier.', 22, 23, 'easier.', 22, 23)]\n",
            "As a result of this, you can agree with me that computers are very practical and they make our lives so much easier.\n",
            "[Edit 2] [('ADJ', 'possitive', 14, 15, 'portable', 14, 15), ('OTHER', 'easyier.', 22, 23, 'easier.', 22, 23)]\n",
            "As a result of this you can agree with me that computers are very portable and they make our lives so much easier.\n",
            "[Edit 3] [('PRON', 'possitive', 14, 15, 'available,', 14, 15), ('OTHER', 'easyier.', 22, 23, 'easier.', 22, 23)]\n",
            "As a result of this you can agree with me that computers are very available, and they make our lives so much easier.\n",
            "----------------------------------------------------------------------------------------------------\n",
            "[Input]  From a local newspaper reader.\n",
            "[Edit 1] []\n",
            "From a local newspaper reader.\n",
            "----------------------------------------------------------------------------------------------------\n"
          ]
        }
      ]
    },
    {
      "cell_type": "code",
      "metadata": {
        "id": "2Tnr0dbFCMUJ"
      },
      "source": [
        ""
      ],
      "execution_count": null,
      "outputs": []
    },
    {
      "cell_type": "code",
      "metadata": {
        "id": "cy6PQ7XwB30K"
      },
      "source": [
        ""
      ],
      "execution_count": null,
      "outputs": []
    }
  ]
}